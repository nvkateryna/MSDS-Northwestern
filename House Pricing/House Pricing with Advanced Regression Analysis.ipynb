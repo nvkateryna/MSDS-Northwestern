{
 "cells": [
  {
   "cell_type": "markdown",
   "id": "19ea4f34",
   "metadata": {},
   "source": [
    "# Introduction\n",
    "\n",
    "This kernel is going to solve House Pricing with Advanced Regression Analysis, a machine learning dataset from Kaggle. It includes four steps: downloading data and creting validation datasets, EDA, data cleaning, fitting and validating linear regression models.\n"
   ]
  },
  {
   "cell_type": "code",
   "execution_count": 1,
   "id": "d17c2b40",
   "metadata": {},
   "outputs": [],
   "source": [
    "# Printing every output instead of just last one\n",
    "from IPython.display import HTML\n",
    "from IPython.core.interactiveshell import InteractiveShell\n",
    "InteractiveShell.ast_node_interactivity = \"all\""
   ]
  },
  {
   "cell_type": "code",
   "execution_count": 2,
   "id": "a4898f8d",
   "metadata": {},
   "outputs": [],
   "source": [
    "# importing the packages\n",
    "import os\n",
    "import numpy as np\n",
    "import pandas as pd\n",
    "import math\n",
    "import matplotlib.pyplot as plt\n",
    "import seaborn as sns\n",
    "import scipy\n",
    "import arrow\n",
    "from sklearn import preprocessing\n",
    "from sklearn.model_selection import train_test_split\n",
    "from sklearn import metrics\n",
    "from sklearn import linear_model\n",
    "from sklearn.linear_model import LinearRegression, Ridge, Lasso, ElasticNet"
   ]
  },
  {
   "cell_type": "code",
   "execution_count": 3,
   "id": "536cafea",
   "metadata": {},
   "outputs": [],
   "source": [
    "# Figures inline and set visualization style\n",
    "%matplotlib inline\n",
    "sns.set()\n",
    "plt.style.use(style='ggplot')\n",
    "plt.rcParams['figure.figsize'] = (10, 6)"
   ]
  },
  {
   "cell_type": "markdown",
   "id": "26f943f3",
   "metadata": {},
   "source": [
    "---\n",
    "\n",
    "## Downloading the Data, Creating Training and Validation data sets.\n",
    "\n",
    "Data is downloaded from Kaggle. The data in train.csv is data that has values on the target variable. The data in test.csv is for generating predictions. \n",
    "\n",
    "“Hold out” cross-validation is used with a random split of the data into 80% training, 20% validation. The random number generator seed is set to a value, so that it would be possible to recreate the split if needed."
   ]
  },
  {
   "cell_type": "markdown",
   "id": "f5f9c27a",
   "metadata": {},
   "source": [
    "### Importing Data\n",
    "\n",
    "Reading the data from the two csv files I downloaded from Kaggle.com."
   ]
  },
  {
   "cell_type": "code",
   "execution_count": 4,
   "id": "4ab593c4",
   "metadata": {},
   "outputs": [
    {
     "data": {
      "text/plain": [
       "['.DS_Store',\n",
       " 'test.csv',\n",
       " 'MSDS422 | Assignment 1 | Katya Nosulko.ipynb',\n",
       " 'data_description.txt',\n",
       " 'Assignment-1 Katya Nosulko.ipynb',\n",
       " 'sync-1-msds-422-58-winter-2022-v1.ipynb',\n",
       " 'train.csv',\n",
       " '.ipynb_checkpoints',\n",
       " 'sample_submission.csv']"
      ]
     },
     "execution_count": 4,
     "metadata": {},
     "output_type": "execute_result"
    }
   ],
   "source": [
    "# Checking that the data files in the present working directory for this Notebook\n",
    "os.listdir()"
   ]
  },
  {
   "cell_type": "code",
   "execution_count": 5,
   "id": "37cf1928",
   "metadata": {},
   "outputs": [],
   "source": [
    "trainDat = pd.read_csv('train.csv')\n",
    "testDat =  pd.read_csv('test.csv')"
   ]
  },
  {
   "cell_type": "code",
   "execution_count": 6,
   "id": "4acd810b",
   "metadata": {},
   "outputs": [
    {
     "data": {
      "text/plain": [
       "(1460, 81)"
      ]
     },
     "execution_count": 6,
     "metadata": {},
     "output_type": "execute_result"
    },
    {
     "data": {
      "text/plain": [
       "(1459, 80)"
      ]
     },
     "execution_count": 6,
     "metadata": {},
     "output_type": "execute_result"
    }
   ],
   "source": [
    "#checking the data\n",
    "trainDat.shape\n",
    "testDat.shape"
   ]
  },
  {
   "cell_type": "code",
   "execution_count": 7,
   "id": "0982ffa1",
   "metadata": {},
   "outputs": [
    {
     "data": {
      "text/plain": [
       "{'SalePrice'}"
      ]
     },
     "execution_count": 7,
     "metadata": {},
     "output_type": "execute_result"
    }
   ],
   "source": [
    "# Checking that SalePrice is not in the test data (the variabble that we need to predict)\n",
    "set(trainDat.columns).difference(set(testDat.columns))"
   ]
  },
  {
   "cell_type": "code",
   "execution_count": 8,
   "id": "34e69154",
   "metadata": {},
   "outputs": [
    {
     "data": {
      "text/plain": [
       "True"
      ]
     },
     "execution_count": 8,
     "metadata": {},
     "output_type": "execute_result"
    }
   ],
   "source": [
    "# Checking that the features in the test data a subset of the train data features\n",
    "set(testDat.columns).issubset(set(trainDat.columns))"
   ]
  },
  {
   "cell_type": "markdown",
   "id": "dd713ffb",
   "metadata": {},
   "source": [
    "### Spliting the Data for Hold Out Cross Validation\n",
    "\n",
    "Doing a random 80/20 split of the trainDat data.  The train split will be for model training.  The test split will be for model validation."
   ]
  },
  {
   "cell_type": "code",
   "execution_count": 9,
   "id": "9f6e5e91",
   "metadata": {},
   "outputs": [],
   "source": [
    "yDat = trainDat.SalePrice      # Our \"Y\" variable\n",
    "\n",
    "XDat = trainDat.loc[:,trainDat.columns!='SalePrice']  # Potential X's"
   ]
  },
  {
   "cell_type": "code",
   "execution_count": 10,
   "id": "c84c760c",
   "metadata": {},
   "outputs": [
    {
     "data": {
      "text/plain": [
       "((1168, 80), (292, 80), (1168,), (292,))"
      ]
     },
     "execution_count": 10,
     "metadata": {},
     "output_type": "execute_result"
    }
   ],
   "source": [
    "# Random split using a scikit-learn preprocessing method\n",
    "# seting the seed for the random generator so the results that we get can be reproduced\n",
    "# shuffling the data before splitting\n",
    "\n",
    "Xtrain, Xtest, ytrain, ytest = train_test_split( XDat, yDat, \\\n",
    "        train_size=0.8, random_state=9,                      \\\n",
    "         shuffle=True )\n",
    "\n",
    "#checking the results\n",
    "Xtrain.shape, Xtest.shape, ytrain.shape, ytest.shape"
   ]
  },
  {
   "cell_type": "markdown",
   "id": "9c57c311",
   "metadata": {},
   "source": [
    "Xtrain and ytrain are to be used for model training.  xtest and ytest are to be used to validate the models, to find out how well they generalize to data they haven't \"learned\" from.\n"
   ]
  },
  {
   "cell_type": "markdown",
   "id": "679a747c",
   "metadata": {},
   "source": [
    "---\n",
    "\n",
    "## EDA\n",
    "\n",
    "- Using descriptive statistics and graphs to understand the distributions of the target variable and the features (all the other variables that might predict the target) in the training data, the random 80% data set you created. \n",
    "- Documenting the data types (categorical, ordered continuous, et.c) of the target and features. \n",
    "- Examining the target and features for problems like missing and incorrect (or suspicious) values, or that have limited or no variation."
   ]
  },
  {
   "cell_type": "code",
   "execution_count": 11,
   "id": "aa890c0c",
   "metadata": {},
   "outputs": [
    {
     "data": {
      "text/plain": [
       "object     43\n",
       "int64      34\n",
       "float64     3\n",
       "dtype: int64"
      ]
     },
     "execution_count": 11,
     "metadata": {},
     "output_type": "execute_result"
    }
   ],
   "source": [
    "# Data types of the potential features\n",
    "Xtrain.dtypes.value_counts()"
   ]
  },
  {
   "cell_type": "code",
   "execution_count": 12,
   "id": "e9fb01e1",
   "metadata": {},
   "outputs": [
    {
     "data": {
      "text/plain": [
       "dtype('int64')"
      ]
     },
     "execution_count": 12,
     "metadata": {},
     "output_type": "execute_result"
    }
   ],
   "source": [
    "# Data type of the target\n",
    "ytrain.dtype"
   ]
  },
  {
   "cell_type": "code",
   "execution_count": 13,
   "id": "15bd15b1",
   "metadata": {},
   "outputs": [
    {
     "data": {
      "text/html": [
       "<div>\n",
       "<style scoped>\n",
       "    .dataframe tbody tr th:only-of-type {\n",
       "        vertical-align: middle;\n",
       "    }\n",
       "\n",
       "    .dataframe tbody tr th {\n",
       "        vertical-align: top;\n",
       "    }\n",
       "\n",
       "    .dataframe thead th {\n",
       "        text-align: right;\n",
       "    }\n",
       "</style>\n",
       "<table border=\"1\" class=\"dataframe\">\n",
       "  <thead>\n",
       "    <tr style=\"text-align: right;\">\n",
       "      <th></th>\n",
       "      <th>Id</th>\n",
       "      <th>MSSubClass</th>\n",
       "      <th>MSZoning</th>\n",
       "      <th>LotFrontage</th>\n",
       "      <th>LotArea</th>\n",
       "      <th>Street</th>\n",
       "      <th>Alley</th>\n",
       "      <th>LotShape</th>\n",
       "      <th>LandContour</th>\n",
       "      <th>Utilities</th>\n",
       "      <th>...</th>\n",
       "      <th>ScreenPorch</th>\n",
       "      <th>PoolArea</th>\n",
       "      <th>PoolQC</th>\n",
       "      <th>Fence</th>\n",
       "      <th>MiscFeature</th>\n",
       "      <th>MiscVal</th>\n",
       "      <th>MoSold</th>\n",
       "      <th>YrSold</th>\n",
       "      <th>SaleType</th>\n",
       "      <th>SaleCondition</th>\n",
       "    </tr>\n",
       "  </thead>\n",
       "  <tbody>\n",
       "    <tr>\n",
       "      <th>1392</th>\n",
       "      <td>1393</td>\n",
       "      <td>85</td>\n",
       "      <td>RL</td>\n",
       "      <td>68.0</td>\n",
       "      <td>7838</td>\n",
       "      <td>Pave</td>\n",
       "      <td>NaN</td>\n",
       "      <td>Reg</td>\n",
       "      <td>Lvl</td>\n",
       "      <td>AllPub</td>\n",
       "      <td>...</td>\n",
       "      <td>0</td>\n",
       "      <td>0</td>\n",
       "      <td>NaN</td>\n",
       "      <td>MnWw</td>\n",
       "      <td>NaN</td>\n",
       "      <td>0</td>\n",
       "      <td>12</td>\n",
       "      <td>2006</td>\n",
       "      <td>WD</td>\n",
       "      <td>Normal</td>\n",
       "    </tr>\n",
       "    <tr>\n",
       "      <th>426</th>\n",
       "      <td>427</td>\n",
       "      <td>80</td>\n",
       "      <td>RL</td>\n",
       "      <td>NaN</td>\n",
       "      <td>12800</td>\n",
       "      <td>Pave</td>\n",
       "      <td>NaN</td>\n",
       "      <td>Reg</td>\n",
       "      <td>Low</td>\n",
       "      <td>AllPub</td>\n",
       "      <td>...</td>\n",
       "      <td>396</td>\n",
       "      <td>0</td>\n",
       "      <td>NaN</td>\n",
       "      <td>NaN</td>\n",
       "      <td>NaN</td>\n",
       "      <td>0</td>\n",
       "      <td>8</td>\n",
       "      <td>2009</td>\n",
       "      <td>WD</td>\n",
       "      <td>Normal</td>\n",
       "    </tr>\n",
       "    <tr>\n",
       "      <th>321</th>\n",
       "      <td>322</td>\n",
       "      <td>60</td>\n",
       "      <td>RL</td>\n",
       "      <td>99.0</td>\n",
       "      <td>12099</td>\n",
       "      <td>Pave</td>\n",
       "      <td>NaN</td>\n",
       "      <td>IR1</td>\n",
       "      <td>Lvl</td>\n",
       "      <td>AllPub</td>\n",
       "      <td>...</td>\n",
       "      <td>0</td>\n",
       "      <td>0</td>\n",
       "      <td>NaN</td>\n",
       "      <td>NaN</td>\n",
       "      <td>NaN</td>\n",
       "      <td>0</td>\n",
       "      <td>6</td>\n",
       "      <td>2007</td>\n",
       "      <td>WD</td>\n",
       "      <td>Normal</td>\n",
       "    </tr>\n",
       "    <tr>\n",
       "      <th>425</th>\n",
       "      <td>426</td>\n",
       "      <td>60</td>\n",
       "      <td>RM</td>\n",
       "      <td>60.0</td>\n",
       "      <td>3378</td>\n",
       "      <td>Pave</td>\n",
       "      <td>Grvl</td>\n",
       "      <td>Reg</td>\n",
       "      <td>HLS</td>\n",
       "      <td>AllPub</td>\n",
       "      <td>...</td>\n",
       "      <td>0</td>\n",
       "      <td>0</td>\n",
       "      <td>NaN</td>\n",
       "      <td>NaN</td>\n",
       "      <td>NaN</td>\n",
       "      <td>0</td>\n",
       "      <td>9</td>\n",
       "      <td>2009</td>\n",
       "      <td>WD</td>\n",
       "      <td>Normal</td>\n",
       "    </tr>\n",
       "    <tr>\n",
       "      <th>102</th>\n",
       "      <td>103</td>\n",
       "      <td>90</td>\n",
       "      <td>RL</td>\n",
       "      <td>64.0</td>\n",
       "      <td>7018</td>\n",
       "      <td>Pave</td>\n",
       "      <td>NaN</td>\n",
       "      <td>Reg</td>\n",
       "      <td>Bnk</td>\n",
       "      <td>AllPub</td>\n",
       "      <td>...</td>\n",
       "      <td>0</td>\n",
       "      <td>0</td>\n",
       "      <td>NaN</td>\n",
       "      <td>NaN</td>\n",
       "      <td>NaN</td>\n",
       "      <td>0</td>\n",
       "      <td>6</td>\n",
       "      <td>2009</td>\n",
       "      <td>WD</td>\n",
       "      <td>Alloca</td>\n",
       "    </tr>\n",
       "  </tbody>\n",
       "</table>\n",
       "<p>5 rows × 80 columns</p>\n",
       "</div>"
      ],
      "text/plain": [
       "        Id  MSSubClass MSZoning  LotFrontage  LotArea Street Alley LotShape  \\\n",
       "1392  1393          85       RL         68.0     7838   Pave   NaN      Reg   \n",
       "426    427          80       RL          NaN    12800   Pave   NaN      Reg   \n",
       "321    322          60       RL         99.0    12099   Pave   NaN      IR1   \n",
       "425    426          60       RM         60.0     3378   Pave  Grvl      Reg   \n",
       "102    103          90       RL         64.0     7018   Pave   NaN      Reg   \n",
       "\n",
       "     LandContour Utilities  ... ScreenPorch PoolArea PoolQC Fence MiscFeature  \\\n",
       "1392         Lvl    AllPub  ...           0        0    NaN  MnWw         NaN   \n",
       "426          Low    AllPub  ...         396        0    NaN   NaN         NaN   \n",
       "321          Lvl    AllPub  ...           0        0    NaN   NaN         NaN   \n",
       "425          HLS    AllPub  ...           0        0    NaN   NaN         NaN   \n",
       "102          Bnk    AllPub  ...           0        0    NaN   NaN         NaN   \n",
       "\n",
       "     MiscVal MoSold  YrSold  SaleType  SaleCondition  \n",
       "1392       0     12    2006        WD         Normal  \n",
       "426        0      8    2009        WD         Normal  \n",
       "321        0      6    2007        WD         Normal  \n",
       "425        0      9    2009        WD         Normal  \n",
       "102        0      6    2009        WD         Alloca  \n",
       "\n",
       "[5 rows x 80 columns]"
      ]
     },
     "execution_count": 13,
     "metadata": {},
     "output_type": "execute_result"
    },
    {
     "data": {
      "text/plain": [
       "1392    123000\n",
       "426     275000\n",
       "321     354000\n",
       "425     135000\n",
       "102     118964\n",
       "Name: SalePrice, dtype: int64"
      ]
     },
     "execution_count": 13,
     "metadata": {},
     "output_type": "execute_result"
    }
   ],
   "source": [
    "# taking a look at the train data\n",
    "Xtrain.head()\n",
    "ytrain.head()"
   ]
  },
  {
   "cell_type": "code",
   "execution_count": 14,
   "id": "3d5a47da",
   "metadata": {},
   "outputs": [
    {
     "name": "stdout",
     "output_type": "stream",
     "text": [
      "<class 'pandas.core.frame.DataFrame'>\n",
      "Int64Index: 1168 entries, 1392 to 382\n",
      "Data columns (total 80 columns):\n",
      " #   Column         Non-Null Count  Dtype  \n",
      "---  ------         --------------  -----  \n",
      " 0   Id             1168 non-null   int64  \n",
      " 1   MSSubClass     1168 non-null   int64  \n",
      " 2   MSZoning       1168 non-null   object \n",
      " 3   LotFrontage    960 non-null    float64\n",
      " 4   LotArea        1168 non-null   int64  \n",
      " 5   Street         1168 non-null   object \n",
      " 6   Alley          77 non-null     object \n",
      " 7   LotShape       1168 non-null   object \n",
      " 8   LandContour    1168 non-null   object \n",
      " 9   Utilities      1168 non-null   object \n",
      " 10  LotConfig      1168 non-null   object \n",
      " 11  LandSlope      1168 non-null   object \n",
      " 12  Neighborhood   1168 non-null   object \n",
      " 13  Condition1     1168 non-null   object \n",
      " 14  Condition2     1168 non-null   object \n",
      " 15  BldgType       1168 non-null   object \n",
      " 16  HouseStyle     1168 non-null   object \n",
      " 17  OverallQual    1168 non-null   int64  \n",
      " 18  OverallCond    1168 non-null   int64  \n",
      " 19  YearBuilt      1168 non-null   int64  \n",
      " 20  YearRemodAdd   1168 non-null   int64  \n",
      " 21  RoofStyle      1168 non-null   object \n",
      " 22  RoofMatl       1168 non-null   object \n",
      " 23  Exterior1st    1168 non-null   object \n",
      " 24  Exterior2nd    1168 non-null   object \n",
      " 25  MasVnrType     1161 non-null   object \n",
      " 26  MasVnrArea     1161 non-null   float64\n",
      " 27  ExterQual      1168 non-null   object \n",
      " 28  ExterCond      1168 non-null   object \n",
      " 29  Foundation     1168 non-null   object \n",
      " 30  BsmtQual       1138 non-null   object \n",
      " 31  BsmtCond       1138 non-null   object \n",
      " 32  BsmtExposure   1137 non-null   object \n",
      " 33  BsmtFinType1   1138 non-null   object \n",
      " 34  BsmtFinSF1     1168 non-null   int64  \n",
      " 35  BsmtFinType2   1137 non-null   object \n",
      " 36  BsmtFinSF2     1168 non-null   int64  \n",
      " 37  BsmtUnfSF      1168 non-null   int64  \n",
      " 38  TotalBsmtSF    1168 non-null   int64  \n",
      " 39  Heating        1168 non-null   object \n",
      " 40  HeatingQC      1168 non-null   object \n",
      " 41  CentralAir     1168 non-null   object \n",
      " 42  Electrical     1167 non-null   object \n",
      " 43  1stFlrSF       1168 non-null   int64  \n",
      " 44  2ndFlrSF       1168 non-null   int64  \n",
      " 45  LowQualFinSF   1168 non-null   int64  \n",
      " 46  GrLivArea      1168 non-null   int64  \n",
      " 47  BsmtFullBath   1168 non-null   int64  \n",
      " 48  BsmtHalfBath   1168 non-null   int64  \n",
      " 49  FullBath       1168 non-null   int64  \n",
      " 50  HalfBath       1168 non-null   int64  \n",
      " 51  BedroomAbvGr   1168 non-null   int64  \n",
      " 52  KitchenAbvGr   1168 non-null   int64  \n",
      " 53  KitchenQual    1168 non-null   object \n",
      " 54  TotRmsAbvGrd   1168 non-null   int64  \n",
      " 55  Functional     1168 non-null   object \n",
      " 56  Fireplaces     1168 non-null   int64  \n",
      " 57  FireplaceQu    605 non-null    object \n",
      " 58  GarageType     1100 non-null   object \n",
      " 59  GarageYrBlt    1100 non-null   float64\n",
      " 60  GarageFinish   1100 non-null   object \n",
      " 61  GarageCars     1168 non-null   int64  \n",
      " 62  GarageArea     1168 non-null   int64  \n",
      " 63  GarageQual     1100 non-null   object \n",
      " 64  GarageCond     1100 non-null   object \n",
      " 65  PavedDrive     1168 non-null   object \n",
      " 66  WoodDeckSF     1168 non-null   int64  \n",
      " 67  OpenPorchSF    1168 non-null   int64  \n",
      " 68  EnclosedPorch  1168 non-null   int64  \n",
      " 69  3SsnPorch      1168 non-null   int64  \n",
      " 70  ScreenPorch    1168 non-null   int64  \n",
      " 71  PoolArea       1168 non-null   int64  \n",
      " 72  PoolQC         6 non-null      object \n",
      " 73  Fence          231 non-null    object \n",
      " 74  MiscFeature    46 non-null     object \n",
      " 75  MiscVal        1168 non-null   int64  \n",
      " 76  MoSold         1168 non-null   int64  \n",
      " 77  YrSold         1168 non-null   int64  \n",
      " 78  SaleType       1168 non-null   object \n",
      " 79  SaleCondition  1168 non-null   object \n",
      "dtypes: float64(3), int64(34), object(43)\n",
      "memory usage: 739.1+ KB\n"
     ]
    }
   ],
   "source": [
    "#checking the data types, missing values\n",
    "Xtrain.info()"
   ]
  },
  {
   "cell_type": "code",
   "execution_count": 15,
   "id": "08dd9c7e",
   "metadata": {},
   "outputs": [
    {
     "data": {
      "text/html": [
       "<div>\n",
       "<style scoped>\n",
       "    .dataframe tbody tr th:only-of-type {\n",
       "        vertical-align: middle;\n",
       "    }\n",
       "\n",
       "    .dataframe tbody tr th {\n",
       "        vertical-align: top;\n",
       "    }\n",
       "\n",
       "    .dataframe thead th {\n",
       "        text-align: right;\n",
       "    }\n",
       "</style>\n",
       "<table border=\"1\" class=\"dataframe\">\n",
       "  <thead>\n",
       "    <tr style=\"text-align: right;\">\n",
       "      <th></th>\n",
       "      <th>Id</th>\n",
       "      <th>MSSubClass</th>\n",
       "      <th>LotFrontage</th>\n",
       "      <th>LotArea</th>\n",
       "      <th>OverallQual</th>\n",
       "      <th>OverallCond</th>\n",
       "      <th>YearBuilt</th>\n",
       "      <th>YearRemodAdd</th>\n",
       "      <th>MasVnrArea</th>\n",
       "      <th>BsmtFinSF1</th>\n",
       "      <th>...</th>\n",
       "      <th>GarageArea</th>\n",
       "      <th>WoodDeckSF</th>\n",
       "      <th>OpenPorchSF</th>\n",
       "      <th>EnclosedPorch</th>\n",
       "      <th>3SsnPorch</th>\n",
       "      <th>ScreenPorch</th>\n",
       "      <th>PoolArea</th>\n",
       "      <th>MiscVal</th>\n",
       "      <th>MoSold</th>\n",
       "      <th>YrSold</th>\n",
       "    </tr>\n",
       "  </thead>\n",
       "  <tbody>\n",
       "    <tr>\n",
       "      <th>count</th>\n",
       "      <td>1168.000000</td>\n",
       "      <td>1168.000000</td>\n",
       "      <td>960.000000</td>\n",
       "      <td>1168.000000</td>\n",
       "      <td>1168.000000</td>\n",
       "      <td>1168.000000</td>\n",
       "      <td>1168.000000</td>\n",
       "      <td>1168.000000</td>\n",
       "      <td>1161.000000</td>\n",
       "      <td>1168.000000</td>\n",
       "      <td>...</td>\n",
       "      <td>1168.000000</td>\n",
       "      <td>1168.000000</td>\n",
       "      <td>1168.000000</td>\n",
       "      <td>1168.000000</td>\n",
       "      <td>1168.000000</td>\n",
       "      <td>1168.000000</td>\n",
       "      <td>1168.000000</td>\n",
       "      <td>1168.000000</td>\n",
       "      <td>1168.000000</td>\n",
       "      <td>1168.000000</td>\n",
       "    </tr>\n",
       "    <tr>\n",
       "      <th>mean</th>\n",
       "      <td>731.872432</td>\n",
       "      <td>57.020548</td>\n",
       "      <td>70.161458</td>\n",
       "      <td>10259.947774</td>\n",
       "      <td>6.066781</td>\n",
       "      <td>5.587329</td>\n",
       "      <td>1970.083904</td>\n",
       "      <td>1984.011986</td>\n",
       "      <td>104.846684</td>\n",
       "      <td>439.532534</td>\n",
       "      <td>...</td>\n",
       "      <td>469.875856</td>\n",
       "      <td>91.159247</td>\n",
       "      <td>46.315068</td>\n",
       "      <td>22.773973</td>\n",
       "      <td>2.898116</td>\n",
       "      <td>16.046233</td>\n",
       "      <td>2.893836</td>\n",
       "      <td>48.830479</td>\n",
       "      <td>6.310788</td>\n",
       "      <td>2007.836473</td>\n",
       "    </tr>\n",
       "    <tr>\n",
       "      <th>std</th>\n",
       "      <td>422.892705</td>\n",
       "      <td>42.433793</td>\n",
       "      <td>24.603254</td>\n",
       "      <td>7184.387102</td>\n",
       "      <td>1.382592</td>\n",
       "      <td>1.118165</td>\n",
       "      <td>30.292742</td>\n",
       "      <td>20.785101</td>\n",
       "      <td>178.606890</td>\n",
       "      <td>461.118816</td>\n",
       "      <td>...</td>\n",
       "      <td>215.108241</td>\n",
       "      <td>122.201957</td>\n",
       "      <td>67.849259</td>\n",
       "      <td>62.066970</td>\n",
       "      <td>26.321831</td>\n",
       "      <td>57.489908</td>\n",
       "      <td>40.736249</td>\n",
       "      <td>548.916607</td>\n",
       "      <td>2.680691</td>\n",
       "      <td>1.336254</td>\n",
       "    </tr>\n",
       "    <tr>\n",
       "      <th>min</th>\n",
       "      <td>1.000000</td>\n",
       "      <td>20.000000</td>\n",
       "      <td>21.000000</td>\n",
       "      <td>1300.000000</td>\n",
       "      <td>1.000000</td>\n",
       "      <td>1.000000</td>\n",
       "      <td>1872.000000</td>\n",
       "      <td>1950.000000</td>\n",
       "      <td>0.000000</td>\n",
       "      <td>0.000000</td>\n",
       "      <td>...</td>\n",
       "      <td>0.000000</td>\n",
       "      <td>0.000000</td>\n",
       "      <td>0.000000</td>\n",
       "      <td>0.000000</td>\n",
       "      <td>0.000000</td>\n",
       "      <td>0.000000</td>\n",
       "      <td>0.000000</td>\n",
       "      <td>0.000000</td>\n",
       "      <td>1.000000</td>\n",
       "      <td>2006.000000</td>\n",
       "    </tr>\n",
       "    <tr>\n",
       "      <th>25%</th>\n",
       "      <td>366.750000</td>\n",
       "      <td>20.000000</td>\n",
       "      <td>60.000000</td>\n",
       "      <td>7559.500000</td>\n",
       "      <td>5.000000</td>\n",
       "      <td>5.000000</td>\n",
       "      <td>1953.000000</td>\n",
       "      <td>1965.000000</td>\n",
       "      <td>0.000000</td>\n",
       "      <td>0.000000</td>\n",
       "      <td>...</td>\n",
       "      <td>317.250000</td>\n",
       "      <td>0.000000</td>\n",
       "      <td>0.000000</td>\n",
       "      <td>0.000000</td>\n",
       "      <td>0.000000</td>\n",
       "      <td>0.000000</td>\n",
       "      <td>0.000000</td>\n",
       "      <td>0.000000</td>\n",
       "      <td>5.000000</td>\n",
       "      <td>2007.000000</td>\n",
       "    </tr>\n",
       "    <tr>\n",
       "      <th>50%</th>\n",
       "      <td>730.500000</td>\n",
       "      <td>50.000000</td>\n",
       "      <td>70.000000</td>\n",
       "      <td>9485.000000</td>\n",
       "      <td>6.000000</td>\n",
       "      <td>5.000000</td>\n",
       "      <td>1971.000000</td>\n",
       "      <td>1992.000000</td>\n",
       "      <td>0.000000</td>\n",
       "      <td>379.500000</td>\n",
       "      <td>...</td>\n",
       "      <td>477.500000</td>\n",
       "      <td>0.000000</td>\n",
       "      <td>24.000000</td>\n",
       "      <td>0.000000</td>\n",
       "      <td>0.000000</td>\n",
       "      <td>0.000000</td>\n",
       "      <td>0.000000</td>\n",
       "      <td>0.000000</td>\n",
       "      <td>6.000000</td>\n",
       "      <td>2008.000000</td>\n",
       "    </tr>\n",
       "    <tr>\n",
       "      <th>75%</th>\n",
       "      <td>1099.250000</td>\n",
       "      <td>70.000000</td>\n",
       "      <td>80.000000</td>\n",
       "      <td>11604.000000</td>\n",
       "      <td>7.000000</td>\n",
       "      <td>6.000000</td>\n",
       "      <td>2000.000000</td>\n",
       "      <td>2003.000000</td>\n",
       "      <td>171.000000</td>\n",
       "      <td>697.250000</td>\n",
       "      <td>...</td>\n",
       "      <td>576.000000</td>\n",
       "      <td>165.250000</td>\n",
       "      <td>66.000000</td>\n",
       "      <td>0.000000</td>\n",
       "      <td>0.000000</td>\n",
       "      <td>0.000000</td>\n",
       "      <td>0.000000</td>\n",
       "      <td>0.000000</td>\n",
       "      <td>8.000000</td>\n",
       "      <td>2009.000000</td>\n",
       "    </tr>\n",
       "    <tr>\n",
       "      <th>max</th>\n",
       "      <td>1460.000000</td>\n",
       "      <td>190.000000</td>\n",
       "      <td>313.000000</td>\n",
       "      <td>159000.000000</td>\n",
       "      <td>10.000000</td>\n",
       "      <td>9.000000</td>\n",
       "      <td>2010.000000</td>\n",
       "      <td>2010.000000</td>\n",
       "      <td>1600.000000</td>\n",
       "      <td>5644.000000</td>\n",
       "      <td>...</td>\n",
       "      <td>1418.000000</td>\n",
       "      <td>736.000000</td>\n",
       "      <td>547.000000</td>\n",
       "      <td>552.000000</td>\n",
       "      <td>508.000000</td>\n",
       "      <td>480.000000</td>\n",
       "      <td>738.000000</td>\n",
       "      <td>15500.000000</td>\n",
       "      <td>12.000000</td>\n",
       "      <td>2010.000000</td>\n",
       "    </tr>\n",
       "  </tbody>\n",
       "</table>\n",
       "<p>8 rows × 37 columns</p>\n",
       "</div>"
      ],
      "text/plain": [
       "                Id   MSSubClass  LotFrontage        LotArea  OverallQual  \\\n",
       "count  1168.000000  1168.000000   960.000000    1168.000000  1168.000000   \n",
       "mean    731.872432    57.020548    70.161458   10259.947774     6.066781   \n",
       "std     422.892705    42.433793    24.603254    7184.387102     1.382592   \n",
       "min       1.000000    20.000000    21.000000    1300.000000     1.000000   \n",
       "25%     366.750000    20.000000    60.000000    7559.500000     5.000000   \n",
       "50%     730.500000    50.000000    70.000000    9485.000000     6.000000   \n",
       "75%    1099.250000    70.000000    80.000000   11604.000000     7.000000   \n",
       "max    1460.000000   190.000000   313.000000  159000.000000    10.000000   \n",
       "\n",
       "       OverallCond    YearBuilt  YearRemodAdd   MasVnrArea   BsmtFinSF1  ...  \\\n",
       "count  1168.000000  1168.000000   1168.000000  1161.000000  1168.000000  ...   \n",
       "mean      5.587329  1970.083904   1984.011986   104.846684   439.532534  ...   \n",
       "std       1.118165    30.292742     20.785101   178.606890   461.118816  ...   \n",
       "min       1.000000  1872.000000   1950.000000     0.000000     0.000000  ...   \n",
       "25%       5.000000  1953.000000   1965.000000     0.000000     0.000000  ...   \n",
       "50%       5.000000  1971.000000   1992.000000     0.000000   379.500000  ...   \n",
       "75%       6.000000  2000.000000   2003.000000   171.000000   697.250000  ...   \n",
       "max       9.000000  2010.000000   2010.000000  1600.000000  5644.000000  ...   \n",
       "\n",
       "        GarageArea   WoodDeckSF  OpenPorchSF  EnclosedPorch    3SsnPorch  \\\n",
       "count  1168.000000  1168.000000  1168.000000    1168.000000  1168.000000   \n",
       "mean    469.875856    91.159247    46.315068      22.773973     2.898116   \n",
       "std     215.108241   122.201957    67.849259      62.066970    26.321831   \n",
       "min       0.000000     0.000000     0.000000       0.000000     0.000000   \n",
       "25%     317.250000     0.000000     0.000000       0.000000     0.000000   \n",
       "50%     477.500000     0.000000    24.000000       0.000000     0.000000   \n",
       "75%     576.000000   165.250000    66.000000       0.000000     0.000000   \n",
       "max    1418.000000   736.000000   547.000000     552.000000   508.000000   \n",
       "\n",
       "       ScreenPorch     PoolArea       MiscVal       MoSold       YrSold  \n",
       "count  1168.000000  1168.000000   1168.000000  1168.000000  1168.000000  \n",
       "mean     16.046233     2.893836     48.830479     6.310788  2007.836473  \n",
       "std      57.489908    40.736249    548.916607     2.680691     1.336254  \n",
       "min       0.000000     0.000000      0.000000     1.000000  2006.000000  \n",
       "25%       0.000000     0.000000      0.000000     5.000000  2007.000000  \n",
       "50%       0.000000     0.000000      0.000000     6.000000  2008.000000  \n",
       "75%       0.000000     0.000000      0.000000     8.000000  2009.000000  \n",
       "max     480.000000   738.000000  15500.000000    12.000000  2010.000000  \n",
       "\n",
       "[8 rows x 37 columns]"
      ]
     },
     "execution_count": 15,
     "metadata": {},
     "output_type": "execute_result"
    }
   ],
   "source": [
    "# summarizing the data\n",
    "Xtrain.describe()"
   ]
  },
  {
   "cell_type": "markdown",
   "id": "7901e1a4",
   "metadata": {},
   "source": [
    "**The average sale price of a house is approx 180k, with most of the values falling within the 129k to 212k range.**"
   ]
  },
  {
   "cell_type": "code",
   "execution_count": 16,
   "id": "cc22f903",
   "metadata": {},
   "outputs": [
    {
     "data": {
      "text/html": [
       "<div>\n",
       "<style scoped>\n",
       "    .dataframe tbody tr th:only-of-type {\n",
       "        vertical-align: middle;\n",
       "    }\n",
       "\n",
       "    .dataframe tbody tr th {\n",
       "        vertical-align: top;\n",
       "    }\n",
       "\n",
       "    .dataframe thead th {\n",
       "        text-align: right;\n",
       "    }\n",
       "</style>\n",
       "<table border=\"1\" class=\"dataframe\">\n",
       "  <thead>\n",
       "    <tr style=\"text-align: right;\">\n",
       "      <th></th>\n",
       "      <th>MSZoning</th>\n",
       "      <th>Street</th>\n",
       "      <th>Alley</th>\n",
       "      <th>LotShape</th>\n",
       "      <th>LandContour</th>\n",
       "      <th>Utilities</th>\n",
       "      <th>LotConfig</th>\n",
       "      <th>LandSlope</th>\n",
       "      <th>Neighborhood</th>\n",
       "      <th>Condition1</th>\n",
       "      <th>...</th>\n",
       "      <th>GarageType</th>\n",
       "      <th>GarageFinish</th>\n",
       "      <th>GarageQual</th>\n",
       "      <th>GarageCond</th>\n",
       "      <th>PavedDrive</th>\n",
       "      <th>PoolQC</th>\n",
       "      <th>Fence</th>\n",
       "      <th>MiscFeature</th>\n",
       "      <th>SaleType</th>\n",
       "      <th>SaleCondition</th>\n",
       "    </tr>\n",
       "  </thead>\n",
       "  <tbody>\n",
       "    <tr>\n",
       "      <th>count</th>\n",
       "      <td>1168</td>\n",
       "      <td>1168</td>\n",
       "      <td>77</td>\n",
       "      <td>1168</td>\n",
       "      <td>1168</td>\n",
       "      <td>1168</td>\n",
       "      <td>1168</td>\n",
       "      <td>1168</td>\n",
       "      <td>1168</td>\n",
       "      <td>1168</td>\n",
       "      <td>...</td>\n",
       "      <td>1100</td>\n",
       "      <td>1100</td>\n",
       "      <td>1100</td>\n",
       "      <td>1100</td>\n",
       "      <td>1168</td>\n",
       "      <td>6</td>\n",
       "      <td>231</td>\n",
       "      <td>46</td>\n",
       "      <td>1168</td>\n",
       "      <td>1168</td>\n",
       "    </tr>\n",
       "    <tr>\n",
       "      <th>unique</th>\n",
       "      <td>5</td>\n",
       "      <td>2</td>\n",
       "      <td>2</td>\n",
       "      <td>4</td>\n",
       "      <td>4</td>\n",
       "      <td>2</td>\n",
       "      <td>5</td>\n",
       "      <td>3</td>\n",
       "      <td>25</td>\n",
       "      <td>9</td>\n",
       "      <td>...</td>\n",
       "      <td>6</td>\n",
       "      <td>3</td>\n",
       "      <td>5</td>\n",
       "      <td>5</td>\n",
       "      <td>3</td>\n",
       "      <td>3</td>\n",
       "      <td>4</td>\n",
       "      <td>4</td>\n",
       "      <td>9</td>\n",
       "      <td>6</td>\n",
       "    </tr>\n",
       "    <tr>\n",
       "      <th>top</th>\n",
       "      <td>RL</td>\n",
       "      <td>Pave</td>\n",
       "      <td>Grvl</td>\n",
       "      <td>Reg</td>\n",
       "      <td>Lvl</td>\n",
       "      <td>AllPub</td>\n",
       "      <td>Inside</td>\n",
       "      <td>Gtl</td>\n",
       "      <td>NAmes</td>\n",
       "      <td>Norm</td>\n",
       "      <td>...</td>\n",
       "      <td>Attchd</td>\n",
       "      <td>Unf</td>\n",
       "      <td>TA</td>\n",
       "      <td>TA</td>\n",
       "      <td>Y</td>\n",
       "      <td>Gd</td>\n",
       "      <td>MnPrv</td>\n",
       "      <td>Shed</td>\n",
       "      <td>WD</td>\n",
       "      <td>Normal</td>\n",
       "    </tr>\n",
       "    <tr>\n",
       "      <th>freq</th>\n",
       "      <td>924</td>\n",
       "      <td>1165</td>\n",
       "      <td>41</td>\n",
       "      <td>753</td>\n",
       "      <td>1040</td>\n",
       "      <td>1167</td>\n",
       "      <td>842</td>\n",
       "      <td>1101</td>\n",
       "      <td>197</td>\n",
       "      <td>1012</td>\n",
       "      <td>...</td>\n",
       "      <td>689</td>\n",
       "      <td>495</td>\n",
       "      <td>1043</td>\n",
       "      <td>1055</td>\n",
       "      <td>1067</td>\n",
       "      <td>3</td>\n",
       "      <td>124</td>\n",
       "      <td>41</td>\n",
       "      <td>1015</td>\n",
       "      <td>955</td>\n",
       "    </tr>\n",
       "  </tbody>\n",
       "</table>\n",
       "<p>4 rows × 43 columns</p>\n",
       "</div>"
      ],
      "text/plain": [
       "       MSZoning Street Alley LotShape LandContour Utilities LotConfig  \\\n",
       "count      1168   1168    77     1168        1168      1168      1168   \n",
       "unique        5      2     2        4           4         2         5   \n",
       "top          RL   Pave  Grvl      Reg         Lvl    AllPub    Inside   \n",
       "freq        924   1165    41      753        1040      1167       842   \n",
       "\n",
       "       LandSlope Neighborhood Condition1  ... GarageType GarageFinish  \\\n",
       "count       1168         1168       1168  ...       1100         1100   \n",
       "unique         3           25          9  ...          6            3   \n",
       "top          Gtl        NAmes       Norm  ...     Attchd          Unf   \n",
       "freq        1101          197       1012  ...        689          495   \n",
       "\n",
       "       GarageQual GarageCond PavedDrive PoolQC  Fence MiscFeature SaleType  \\\n",
       "count        1100       1100       1168      6    231          46     1168   \n",
       "unique          5          5          3      3      4           4        9   \n",
       "top            TA         TA          Y     Gd  MnPrv        Shed       WD   \n",
       "freq         1043       1055       1067      3    124          41     1015   \n",
       "\n",
       "       SaleCondition  \n",
       "count           1168  \n",
       "unique             6  \n",
       "top           Normal  \n",
       "freq             955  \n",
       "\n",
       "[4 rows x 43 columns]"
      ]
     },
     "execution_count": 16,
     "metadata": {},
     "output_type": "execute_result"
    }
   ],
   "source": [
    "Xtrain.describe(include=['O'])"
   ]
  },
  {
   "cell_type": "markdown",
   "id": "8cc5eb6b",
   "metadata": {},
   "source": [
    "### Checking for missing values"
   ]
  },
  {
   "cell_type": "code",
   "execution_count": 17,
   "id": "45d41f36",
   "metadata": {},
   "outputs": [
    {
     "data": {
      "text/plain": [
       "<AxesSubplot:>"
      ]
     },
     "execution_count": 17,
     "metadata": {},
     "output_type": "execute_result"
    },
    {
     "data": {
      "image/png": "[encoded data removed]",
      "text/plain": [
       "<Figure size 720x432 with 1 Axes>"
      ]
     },
     "metadata": {},
     "output_type": "display_data"
    }
   ],
   "source": [
    "missing_data = Xtrain.isnull().sum()\n",
    "missing_data = missing_data[missing_data>0]\n",
    "missing_data.sort_values(inplace=True)\n",
    "missing_data.plot.bar()"
   ]
  },
  {
   "cell_type": "code",
   "execution_count": 18,
   "id": "3101eb6e",
   "metadata": {},
   "outputs": [
    {
     "data": {
      "image/png": "[encoded data removed]",
      "text/plain": [
       "<Figure size 360x360 with 1 Axes>"
      ]
     },
     "metadata": {},
     "output_type": "display_data"
    }
   ],
   "source": [
    "sns.set(rc={'figure.figsize':(15,8)})\n",
    "sns.displot(ytrain, bins=20);"
   ]
  },
  {
   "cell_type": "code",
   "execution_count": 19,
   "id": "1c43c616",
   "metadata": {},
   "outputs": [
    {
     "data": {
      "text/plain": [
       "<AxesSubplot:xlabel='SalePrice', ylabel='Density'>"
      ]
     },
     "execution_count": 19,
     "metadata": {},
     "output_type": "execute_result"
    },
    {
     "data": {
      "image/png": "[encoded data removed]",
      "text/plain": [
       "<Figure size 1080x576 with 1 Axes>"
      ]
     },
     "metadata": {},
     "output_type": "display_data"
    }
   ],
   "source": [
    "sns.kdeplot(ytrain)"
   ]
  },
  {
   "cell_type": "code",
   "execution_count": 20,
   "id": "e3e8a50b",
   "metadata": {},
   "outputs": [
    {
     "data": {
      "text/plain": [
       "count      1168.000000\n",
       "mean     178753.636986\n",
       "std       78296.025999\n",
       "min       34900.000000\n",
       "25%      129000.000000\n",
       "50%      159697.500000\n",
       "75%      212000.000000\n",
       "max      745000.000000\n",
       "Name: SalePrice, dtype: float64"
      ]
     },
     "execution_count": 20,
     "metadata": {},
     "output_type": "execute_result"
    }
   ],
   "source": [
    "ytrain.describe()"
   ]
  },
  {
   "cell_type": "markdown",
   "id": "8269bf9a",
   "metadata": {},
   "source": [
    "### Looking for correlations"
   ]
  },
  {
   "cell_type": "code",
   "execution_count": 21,
   "id": "d3bd2819",
   "metadata": {},
   "outputs": [],
   "source": [
    "mergedxy=Xtrain.join(ytrain)"
   ]
  },
  {
   "cell_type": "code",
   "execution_count": 22,
   "id": "dfd18a4d",
   "metadata": {},
   "outputs": [
    {
     "data": {
      "text/plain": [
       "Index(['Id', 'MSSubClass', 'LotFrontage', 'LotArea', 'OverallQual',\n",
       "       'OverallCond', 'YearBuilt', 'YearRemodAdd', 'MasVnrArea', 'BsmtFinSF1',\n",
       "       'BsmtFinSF2', 'BsmtUnfSF', 'TotalBsmtSF', '1stFlrSF', '2ndFlrSF',\n",
       "       'LowQualFinSF', 'GrLivArea', 'BsmtFullBath', 'BsmtHalfBath', 'FullBath',\n",
       "       'HalfBath', 'BedroomAbvGr', 'KitchenAbvGr', 'TotRmsAbvGrd',\n",
       "       'Fireplaces', 'GarageYrBlt', 'GarageCars', 'GarageArea', 'WoodDeckSF',\n",
       "       'OpenPorchSF', 'EnclosedPorch', '3SsnPorch', 'ScreenPorch', 'PoolArea',\n",
       "       'MiscVal', 'MoSold', 'YrSold', 'SalePrice'],\n",
       "      dtype='object')"
      ]
     },
     "execution_count": 22,
     "metadata": {},
     "output_type": "execute_result"
    }
   ],
   "source": [
    "#selecting numeric features\n",
    "numeric = mergedxy.select_dtypes(include=[np.number])\n",
    "numeric.columns"
   ]
  },
  {
   "cell_type": "code",
   "execution_count": 23,
   "id": "22e60de1",
   "metadata": {},
   "outputs": [
    {
     "data": {
      "text/plain": [
       "Index(['MSZoning', 'Street', 'Alley', 'LotShape', 'LandContour', 'Utilities',\n",
       "       'LotConfig', 'LandSlope', 'Neighborhood', 'Condition1', 'Condition2',\n",
       "       'BldgType', 'HouseStyle', 'RoofStyle', 'RoofMatl', 'Exterior1st',\n",
       "       'Exterior2nd', 'MasVnrType', 'ExterQual', 'ExterCond', 'Foundation',\n",
       "       'BsmtQual', 'BsmtCond', 'BsmtExposure', 'BsmtFinType1', 'BsmtFinType2',\n",
       "       'Heating', 'HeatingQC', 'CentralAir', 'Electrical', 'KitchenQual',\n",
       "       'Functional', 'FireplaceQu', 'GarageType', 'GarageFinish', 'GarageQual',\n",
       "       'GarageCond', 'PavedDrive', 'PoolQC', 'Fence', 'MiscFeature',\n",
       "       'SaleType', 'SaleCondition'],\n",
       "      dtype='object')"
      ]
     },
     "execution_count": 23,
     "metadata": {},
     "output_type": "execute_result"
    }
   ],
   "source": [
    "#selecting categorical features\n",
    "categorical = mergedxy.select_dtypes(include=[object])\n",
    "categorical.columns"
   ]
  },
  {
   "cell_type": "code",
   "execution_count": 24,
   "id": "0d875fa3",
   "metadata": {},
   "outputs": [
    {
     "name": "stdout",
     "output_type": "stream",
     "text": [
      "SalePrice        1.000000\n",
      "OverallQual      0.789335\n",
      "GrLivArea        0.699250\n",
      "GarageCars       0.637448\n",
      "GarageArea       0.628478\n",
      "TotalBsmtSF      0.606144\n",
      "1stFlrSF         0.602790\n",
      "FullBath         0.566347\n",
      "YearBuilt        0.548451\n",
      "TotRmsAbvGrd     0.544250\n",
      "YearRemodAdd     0.517346\n",
      "GarageYrBlt      0.496660\n",
      "MasVnrArea       0.460624\n",
      "Fireplaces       0.451156\n",
      "BsmtFinSF1       0.376794\n",
      "LotFrontage      0.334471\n",
      "OpenPorchSF      0.314776\n",
      "2ndFlrSF         0.309395\n",
      "WoodDeckSF       0.300691\n",
      "HalfBath         0.285252\n",
      "LotArea          0.281523\n",
      "BsmtUnfSF        0.225554\n",
      "BsmtFullBath     0.215414\n",
      "BedroomAbvGr     0.172962\n",
      "ScreenPorch      0.118925\n",
      "PoolArea         0.117562\n",
      "3SsnPorch        0.066073\n",
      "MoSold           0.058249\n",
      "BsmtFinSF2      -0.012538\n",
      "MiscVal         -0.017251\n",
      "BsmtHalfBath    -0.017628\n",
      "Id              -0.020511\n",
      "YrSold          -0.028802\n",
      "LowQualFinSF    -0.052486\n",
      "MSSubClass      -0.078036\n",
      "OverallCond     -0.082409\n",
      "EnclosedPorch   -0.132450\n",
      "KitchenAbvGr    -0.138324\n",
      "Name: SalePrice, dtype: float64 \n",
      "\n"
     ]
    }
   ],
   "source": [
    "#looking for correlations\n",
    "correlations = mergedxy.corr()\n",
    "print(correlations['SalePrice'].sort_values(ascending=False),'\\n')"
   ]
  },
  {
   "cell_type": "markdown",
   "id": "4ea7c96b",
   "metadata": {},
   "source": [
    "#### Only the first 10 (after the SalePrice) variables have a correlation of above 0.5, so we will only use them to create a heatmap."
   ]
  },
  {
   "cell_type": "code",
   "execution_count": 25,
   "id": "bd42843d",
   "metadata": {},
   "outputs": [
    {
     "name": "stdout",
     "output_type": "stream",
     "text": [
      "Index(['SalePrice', 'OverallQual', 'GrLivArea', 'GarageCars', 'GarageArea',\n",
      "       'TotalBsmtSF', '1stFlrSF', 'FullBath', 'YearBuilt', 'TotRmsAbvGrd',\n",
      "       'YearRemodAdd'],\n",
      "      dtype='object')\n"
     ]
    },
    {
     "data": {
      "text/plain": [
       "<AxesSubplot:>"
      ]
     },
     "execution_count": 25,
     "metadata": {},
     "output_type": "execute_result"
    },
    {
     "data": {
      "image/png": "[encoded data removed]",
      "text/plain": [
       "<Figure size 1008x864 with 2 Axes>"
      ]
     },
     "metadata": {},
     "output_type": "display_data"
    }
   ],
   "source": [
    "#creating a heatmap\n",
    "k=11\n",
    "cols = correlations.nlargest(k,'SalePrice')['SalePrice'].index\n",
    "print(cols)\n",
    "cm = np.corrcoef(correlations[cols].values.T)\n",
    "f,ax = plt.subplots(figsize=(14,12))\n",
    "sns.heatmap(cm, square=True, vmax=0.8,annot=True, xticklabels=cols.values,yticklabels=cols.values)"
   ]
  },
  {
   "cell_type": "markdown",
   "id": "4fc157aa",
   "metadata": {},
   "source": [
    "#### Adding scatterplots for the variables that showed most correlation with the SalePrice"
   ]
  },
  {
   "cell_type": "code",
   "execution_count": 26,
   "id": "efb0e7cd",
   "metadata": {},
   "outputs": [
    {
     "data": {
      "text/plain": [
       "<AxesSubplot:xlabel='OverallQual', ylabel='SalePrice'>"
      ]
     },
     "execution_count": 26,
     "metadata": {},
     "output_type": "execute_result"
    },
    {
     "data": {
      "text/plain": [
       "<AxesSubplot:xlabel='GrLivArea', ylabel='SalePrice'>"
      ]
     },
     "execution_count": 26,
     "metadata": {},
     "output_type": "execute_result"
    },
    {
     "data": {
      "text/plain": [
       "<AxesSubplot:xlabel='GarageCars', ylabel='SalePrice'>"
      ]
     },
     "execution_count": 26,
     "metadata": {},
     "output_type": "execute_result"
    },
    {
     "data": {
      "text/plain": [
       "<AxesSubplot:xlabel='FullBath', ylabel='SalePrice'>"
      ]
     },
     "execution_count": 26,
     "metadata": {},
     "output_type": "execute_result"
    },
    {
     "data": {
      "text/plain": [
       "<AxesSubplot:xlabel='YearBuilt', ylabel='SalePrice'>"
      ]
     },
     "execution_count": 26,
     "metadata": {},
     "output_type": "execute_result"
    },
    {
     "data": {
      "text/plain": [
       "<AxesSubplot:xlabel='GarageArea', ylabel='SalePrice'>"
      ]
     },
     "execution_count": 26,
     "metadata": {},
     "output_type": "execute_result"
    },
    {
     "data": {
      "image/png": "[encoded data removed]",
      "text/plain": [
       "<Figure size 1008x720 with 6 Axes>"
      ]
     },
     "metadata": {},
     "output_type": "display_data"
    }
   ],
   "source": [
    "fig, ((ax1,ax2),(ax3,ax4),(ax5,ax6)) = plt.subplots(nrows=3, ncols=2, figsize=(14,10))\n",
    "sns.scatterplot(x='OverallQual',y='SalePrice', data = mergedxy, ax=ax1)\n",
    "sns.scatterplot(x='GrLivArea',y='SalePrice', data = mergedxy, ax=ax2)\n",
    "sns.scatterplot(x='GarageCars',y='SalePrice', data = mergedxy, ax=ax3)\n",
    "sns.scatterplot(x='FullBath',y='SalePrice', data = mergedxy, ax=ax4)\n",
    "sns.scatterplot(x='YearBuilt',y='SalePrice', data = mergedxy, ax=ax5)\n",
    "sns.scatterplot(x='GarageArea',y='SalePrice', data = mergedxy, ax=ax6)"
   ]
  },
  {
   "cell_type": "markdown",
   "id": "d2538c3a",
   "metadata": {},
   "source": [
    "### Adding boxplots to find outliers"
   ]
  },
  {
   "cell_type": "code",
   "execution_count": 27,
   "id": "a424f7e2",
   "metadata": {},
   "outputs": [
    {
     "data": {
      "text/plain": [
       "count      1168.000000\n",
       "mean     178753.636986\n",
       "std       78296.025999\n",
       "min       34900.000000\n",
       "25%      129000.000000\n",
       "50%      159697.500000\n",
       "75%      212000.000000\n",
       "max      745000.000000\n",
       "Name: SalePrice, dtype: float64"
      ]
     },
     "execution_count": 27,
     "metadata": {},
     "output_type": "execute_result"
    }
   ],
   "source": [
    "mergedxy['SalePrice'].describe()"
   ]
  },
  {
   "cell_type": "code",
   "execution_count": 28,
   "id": "7c1a4c3f",
   "metadata": {},
   "outputs": [
    {
     "data": {
      "text/plain": [
       "<AxesSubplot:xlabel='SalePrice'>"
      ]
     },
     "execution_count": 28,
     "metadata": {},
     "output_type": "execute_result"
    },
    {
     "data": {
      "image/png": "[encoded data removed]",
      "text/plain": [
       "<Figure size 1080x576 with 1 Axes>"
      ]
     },
     "metadata": {},
     "output_type": "display_data"
    }
   ],
   "source": [
    "sns.boxplot(x=mergedxy['SalePrice'])"
   ]
  },
  {
   "cell_type": "code",
   "execution_count": 29,
   "id": "c6fd9806",
   "metadata": {},
   "outputs": [
    {
     "data": {
      "text/plain": [
       "(1168, 81)"
      ]
     },
     "execution_count": 29,
     "metadata": {},
     "output_type": "execute_result"
    }
   ],
   "source": [
    "mergedxy.shape"
   ]
  },
  {
   "cell_type": "code",
   "execution_count": 30,
   "id": "cf36dec0",
   "metadata": {},
   "outputs": [],
   "source": [
    "first_q = mergedxy['SalePrice'].quantile(0.25)\n",
    "third_q = mergedxy['SalePrice'].quantile(0.75)\n",
    "IQR = third_q - first_q"
   ]
  },
  {
   "cell_type": "code",
   "execution_count": 31,
   "id": "1678148c",
   "metadata": {},
   "outputs": [],
   "source": [
    "new_boundary = third_q + 3*IQR"
   ]
  },
  {
   "cell_type": "code",
   "execution_count": 32,
   "id": "cf2f7248",
   "metadata": {},
   "outputs": [],
   "source": [
    "mergedxy.drop(mergedxy[mergedxy['SalePrice']>new_boundary].index, axis= 0, inplace = True)"
   ]
  },
  {
   "cell_type": "code",
   "execution_count": 33,
   "id": "4f2751fd",
   "metadata": {},
   "outputs": [
    {
     "data": {
      "text/plain": [
       "(1158, 81)"
      ]
     },
     "execution_count": 33,
     "metadata": {},
     "output_type": "execute_result"
    }
   ],
   "source": [
    "mergedxy.shape"
   ]
  },
  {
   "cell_type": "code",
   "execution_count": 34,
   "id": "7817bcea",
   "metadata": {},
   "outputs": [
    {
     "data": {
      "text/plain": [
       "<AxesSubplot:xlabel='SalePrice'>"
      ]
     },
     "execution_count": 34,
     "metadata": {},
     "output_type": "execute_result"
    },
    {
     "data": {
      "image/png": "[encoded data removed]",
      "text/plain": [
       "<Figure size 1080x576 with 1 Axes>"
      ]
     },
     "metadata": {},
     "output_type": "display_data"
    }
   ],
   "source": [
    "#checking the results\n",
    "sns.boxplot(x=mergedxy['SalePrice'])"
   ]
  },
  {
   "cell_type": "code",
   "execution_count": 35,
   "id": "9532034e",
   "metadata": {},
   "outputs": [
    {
     "data": {
      "text/plain": [
       "(-0.5, 8.5, 0.0, 800000.0)"
      ]
     },
     "execution_count": 35,
     "metadata": {},
     "output_type": "execute_result"
    },
    {
     "data": {
      "image/png": "[encoded data removed]",
      "text/plain": [
       "<Figure size 1152x720 with 1 Axes>"
      ]
     },
     "metadata": {},
     "output_type": "display_data"
    }
   ],
   "source": [
    "f,ax = plt.subplots(figsize=(16,10))\n",
    "fig=sns.boxplot(x='SaleType', y='SalePrice', data=mergedxy)\n",
    "fig.axis(ymin=0,ymax=800000)\n",
    "xt=plt.xticks(rotation=45)"
   ]
  },
  {
   "cell_type": "code",
   "execution_count": 36,
   "id": "2941dc23",
   "metadata": {},
   "outputs": [
    {
     "data": {
      "text/plain": [
       "(-0.5, 9.5, 0.0, 800000.0)"
      ]
     },
     "execution_count": 36,
     "metadata": {},
     "output_type": "execute_result"
    },
    {
     "data": {
      "image/png": "[encoded data removed]",
      "text/plain": [
       "<Figure size 1152x720 with 1 Axes>"
      ]
     },
     "metadata": {},
     "output_type": "display_data"
    }
   ],
   "source": [
    "f,ax = plt.subplots(figsize=(16,10))\n",
    "fig=sns.boxplot(x='OverallQual', y='SalePrice', data=mergedxy)\n",
    "fig.axis(ymin=0,ymax=800000)\n",
    "xt=plt.xticks(rotation=45)"
   ]
  },
  {
   "cell_type": "markdown",
   "id": "a52ae5ee",
   "metadata": {},
   "source": [
    "---\n",
    "\n",
    "## Cleaning, Transformations, and Rescaling"
   ]
  },
  {
   "cell_type": "markdown",
   "id": "ea8d4868",
   "metadata": {},
   "source": [
    "### Removing some variables for a variety of reasons:\n",
    "**Multicollinear features**\n",
    "1. GarageArea (GarageCars)  \n",
    "2. TotalBsmtSF (1stFlrSF)  \n",
    "3. TotRmsAbvGrd (GrLivArea)  \n",
    "<br>\n",
    "**Variables that are missing more than 20% of values:**\n",
    "<br>\n",
    "4. FireplaceQu  \n",
    "5. Fence  \n",
    "6. Alley  \n",
    "7. MiscFeature  \n",
    "8. PoolQC  \n",
    "<br>\n",
    "**Features with poor correlation with SalePrice:**\n",
    "<br>\n",
    "9. GarageYrBlt      \n",
    "10. MasVnrArea       \n",
    "11. Fireplaces     \n",
    "12. BsmtFinSF1\n",
    "13. LotFrontage     \n",
    "14. OpenPorchSF   \n",
    "15. 2ndFlrSF   \n",
    "16. WoodDeckSF \n",
    "17. HalfBath    \n",
    "18. LotArea  \n",
    "19. BsmtUnfSF  \n",
    "20. BsmtFullBath  \n",
    "21. BedroomAbvGr  \n",
    "22. ScreenPorch  \n",
    "23. PoolArea  \n",
    "24. 3SsnPorch  \n",
    "25. MoSold   \n",
    "26. BsmtFinSF2  \n",
    "27. MiscVal  \n",
    "28. BsmtHalfBath  \n",
    "29. Id  \n",
    "30. YrSold  \n",
    "31. LowQualFinSF  \n",
    "32. MSSubClass  \n",
    "33. OverallCond  \n",
    "34. EnclosedPorch  \n",
    "35. KitchenAbvGr  "
   ]
  },
  {
   "cell_type": "code",
   "execution_count": 37,
   "id": "2939617b",
   "metadata": {},
   "outputs": [],
   "source": [
    "#droping the rows in the training set\n",
    "mergedxy.drop(['GarageArea','TotalBsmtSF','TotRmsAbvGrd','FireplaceQu', \n",
    "            'Fence', 'Alley', 'MiscFeature', \n",
    "            'PoolQC','GarageYrBlt','MasVnrArea','Fireplaces',\n",
    "            'BsmtFinSF1','LotFrontage','OpenPorchSF',\n",
    "            '2ndFlrSF','WoodDeckSF','HalfBath','LotArea',\n",
    "            'BsmtUnfSF','BsmtFullBath','BedroomAbvGr','ScreenPorch',\n",
    "            'PoolArea','3SsnPorch','MoSold','BsmtFinSF2','MiscVal',\n",
    "            'BsmtHalfBath','Id','YrSold','LowQualFinSF','MSSubClass',\n",
    "            'OverallCond','EnclosedPorch','KitchenAbvGr'],axis=1,inplace=True)"
   ]
  },
  {
   "cell_type": "code",
   "execution_count": 38,
   "id": "4a817a7f",
   "metadata": {},
   "outputs": [
    {
     "name": "stdout",
     "output_type": "stream",
     "text": [
      "MSZoning          0\n",
      "Street            0\n",
      "LotShape          0\n",
      "LandContour       0\n",
      "Utilities         0\n",
      "LotConfig         0\n",
      "LandSlope         0\n",
      "Neighborhood      0\n",
      "Condition1        0\n",
      "Condition2        0\n",
      "BldgType          0\n",
      "HouseStyle        0\n",
      "OverallQual       0\n",
      "YearBuilt         0\n",
      "YearRemodAdd      0\n",
      "RoofStyle         0\n",
      "RoofMatl          0\n",
      "Exterior1st       0\n",
      "Exterior2nd       0\n",
      "MasVnrType        6\n",
      "ExterQual         0\n",
      "ExterCond         0\n",
      "Foundation        0\n",
      "BsmtQual         30\n",
      "BsmtCond         30\n",
      "BsmtExposure     31\n",
      "BsmtFinType1     30\n",
      "BsmtFinType2     31\n",
      "Heating           0\n",
      "HeatingQC         0\n",
      "CentralAir        0\n",
      "Electrical        1\n",
      "1stFlrSF          0\n",
      "GrLivArea         0\n",
      "FullBath          0\n",
      "KitchenQual       0\n",
      "Functional        0\n",
      "GarageType       68\n",
      "GarageFinish     68\n",
      "GarageCars        0\n",
      "GarageQual       68\n",
      "GarageCond       68\n",
      "PavedDrive        0\n",
      "SaleType          0\n",
      "SaleCondition     0\n",
      "SalePrice         0\n",
      "dtype: int64\n"
     ]
    }
   ],
   "source": [
    "#checking the data for null values\n",
    "with pd.option_context('display.max_rows', None,):\n",
    "   print(mergedxy.isnull().sum())"
   ]
  },
  {
   "cell_type": "code",
   "execution_count": 39,
   "id": "9674366b",
   "metadata": {},
   "outputs": [],
   "source": [
    "#handling the null values (all are non numerical)\n",
    "mergedxy['MasVnrType']=mergedxy['MasVnrType'].fillna(mergedxy['MasVnrType'].mode()[0])\n",
    "mergedxy['BsmtQual']=mergedxy['BsmtQual'].fillna(mergedxy['BsmtQual'].mode()[0])\n",
    "mergedxy['BsmtCond']=mergedxy['BsmtCond'].fillna(mergedxy['BsmtCond'].mode()[0])\n",
    "mergedxy['BsmtExposure']=mergedxy['BsmtExposure'].fillna(mergedxy['BsmtExposure'].mode()[0])\n",
    "mergedxy['BsmtFinType1']=mergedxy['BsmtFinType1'].fillna(mergedxy['BsmtFinType1'].mode()[0])\n",
    "mergedxy['BsmtFinType2']=mergedxy['BsmtFinType2'].fillna(mergedxy['BsmtFinType2'].mode()[0])\n",
    "mergedxy['Electrical']=mergedxy['Electrical'].fillna(mergedxy['Electrical'].mode()[0])\n",
    "mergedxy['GarageType']=mergedxy['GarageType'].fillna(mergedxy['GarageType'].mode()[0])\n",
    "mergedxy['GarageFinish']=mergedxy['GarageFinish'].fillna(mergedxy['GarageFinish'].mode()[0])\n",
    "mergedxy['GarageQual']=mergedxy['GarageQual'].fillna(mergedxy['GarageQual'].mode()[0])\n",
    "mergedxy['GarageCond']=mergedxy['GarageCond'].fillna(mergedxy['GarageCond'].mode()[0])"
   ]
  },
  {
   "cell_type": "code",
   "execution_count": 40,
   "id": "96c34aaa",
   "metadata": {},
   "outputs": [
    {
     "data": {
      "text/plain": [
       "0"
      ]
     },
     "execution_count": 40,
     "metadata": {},
     "output_type": "execute_result"
    }
   ],
   "source": [
    "#confirming there are no null values anymore\n",
    "mergedxy.isnull().sum().sum()"
   ]
  },
  {
   "cell_type": "code",
   "execution_count": 41,
   "id": "0da4a0b4",
   "metadata": {},
   "outputs": [
    {
     "data": {
      "text/plain": [
       "(1158, 46)"
      ]
     },
     "execution_count": 41,
     "metadata": {},
     "output_type": "execute_result"
    }
   ],
   "source": [
    "mergedxy.shape"
   ]
  },
  {
   "cell_type": "code",
   "execution_count": 43,
   "id": "b58b0a57",
   "metadata": {},
   "outputs": [],
   "source": [
    "dummy=pd.get_dummies(mergedxy['ExterCond'])"
   ]
  },
  {
   "cell_type": "code",
   "execution_count": 44,
   "id": "28a3529b",
   "metadata": {},
   "outputs": [],
   "source": [
    "mergedxy=mergedxy.merge(dummy,left_index=True,right_index=True)"
   ]
  },
  {
   "cell_type": "code",
   "execution_count": 45,
   "id": "91f78047",
   "metadata": {},
   "outputs": [
    {
     "data": {
      "text/plain": [
       "(1158, 51)"
      ]
     },
     "execution_count": 45,
     "metadata": {},
     "output_type": "execute_result"
    }
   ],
   "source": [
    "mergedxy.shape"
   ]
  },
  {
   "cell_type": "markdown",
   "id": "6681c085",
   "metadata": {},
   "source": [
    "### Doing same cleaning process on test data"
   ]
  },
  {
   "cell_type": "code",
   "execution_count": 46,
   "id": "3744974f",
   "metadata": {},
   "outputs": [
    {
     "data": {
      "text/plain": [
       "(292, 80)"
      ]
     },
     "execution_count": 46,
     "metadata": {},
     "output_type": "execute_result"
    }
   ],
   "source": [
    "Xtest.shape"
   ]
  },
  {
   "cell_type": "code",
   "execution_count": 47,
   "id": "e34a7e7d",
   "metadata": {},
   "outputs": [
    {
     "name": "stderr",
     "output_type": "stream",
     "text": [
      "/Users/katya/opt/anaconda3/lib/python3.9/site-packages/pandas/core/frame.py:4906: SettingWithCopyWarning: \n",
      "A value is trying to be set on a copy of a slice from a DataFrame\n",
      "\n",
      "See the caveats in the documentation: https://pandas.pydata.org/pandas-docs/stable/user_guide/indexing.html#returning-a-view-versus-a-copy\n",
      "  return super().drop(\n"
     ]
    }
   ],
   "source": [
    "#droping same rows in xtest data\n",
    "Xtest.drop(['GarageArea','TotalBsmtSF','TotRmsAbvGrd','FireplaceQu', \n",
    "            'Fence', 'Alley', 'MiscFeature', \n",
    "            'PoolQC','GarageYrBlt','MasVnrArea','Fireplaces',\n",
    "            'BsmtFinSF1','LotFrontage','OpenPorchSF',\n",
    "            '2ndFlrSF','WoodDeckSF','HalfBath','LotArea',\n",
    "            'BsmtUnfSF','BsmtFullBath','BedroomAbvGr','ScreenPorch',\n",
    "            'PoolArea','3SsnPorch','MoSold','BsmtFinSF2','MiscVal',\n",
    "            'BsmtHalfBath','Id','YrSold','LowQualFinSF','MSSubClass',\n",
    "            'OverallCond','EnclosedPorch','KitchenAbvGr'],axis=1,inplace=True)"
   ]
  },
  {
   "cell_type": "code",
   "execution_count": 48,
   "id": "e59fa87b",
   "metadata": {},
   "outputs": [
    {
     "data": {
      "text/plain": [
       "(292, 45)"
      ]
     },
     "execution_count": 48,
     "metadata": {},
     "output_type": "execute_result"
    }
   ],
   "source": [
    "Xtest.shape"
   ]
  },
  {
   "cell_type": "code",
   "execution_count": 51,
   "id": "4f9ce36b",
   "metadata": {},
   "outputs": [],
   "source": [
    "dummy1=pd.get_dummies(Xtest['ExterCond'])"
   ]
  },
  {
   "cell_type": "code",
   "execution_count": 52,
   "id": "4a4d67b3",
   "metadata": {},
   "outputs": [],
   "source": [
    "Xtest=Xtest.merge(dummy1,left_index=True,right_index=True)"
   ]
  },
  {
   "cell_type": "code",
   "execution_count": 53,
   "id": "cca7428e",
   "metadata": {},
   "outputs": [],
   "source": [
    "Xtest['Po'] = 0"
   ]
  },
  {
   "cell_type": "code",
   "execution_count": 54,
   "id": "994a3073",
   "metadata": {},
   "outputs": [
    {
     "data": {
      "text/plain": [
       "(292, 50)"
      ]
     },
     "execution_count": 54,
     "metadata": {},
     "output_type": "execute_result"
    }
   ],
   "source": [
    "Xtest.shape"
   ]
  },
  {
   "cell_type": "code",
   "execution_count": 55,
   "id": "267a78b1",
   "metadata": {},
   "outputs": [
    {
     "data": {
      "text/plain": [
       "(1459, 80)"
      ]
     },
     "execution_count": 55,
     "metadata": {},
     "output_type": "execute_result"
    }
   ],
   "source": [
    "testDat.shape"
   ]
  },
  {
   "cell_type": "code",
   "execution_count": 56,
   "id": "817b36e8",
   "metadata": {},
   "outputs": [],
   "source": [
    "#droping same rows in test data\n",
    "testDat.drop(['GarageArea','TotalBsmtSF','TotRmsAbvGrd','FireplaceQu', \n",
    "              'Fence', 'Alley', 'MiscFeature', \n",
    "              'PoolQC','GarageYrBlt','MasVnrArea','Fireplaces',\n",
    "              'BsmtFinSF1','LotFrontage','OpenPorchSF',\n",
    "              '2ndFlrSF','WoodDeckSF','HalfBath','LotArea',\n",
    "              'BsmtUnfSF','BsmtFullBath','BedroomAbvGr','ScreenPorch',\n",
    "              'PoolArea','3SsnPorch','MoSold','BsmtFinSF2','MiscVal',\n",
    "              'BsmtHalfBath','Id','YrSold','LowQualFinSF','MSSubClass',\n",
    "              'OverallCond','EnclosedPorch','KitchenAbvGr'],axis=1,inplace=True)"
   ]
  },
  {
   "cell_type": "code",
   "execution_count": 57,
   "id": "039cfbd6",
   "metadata": {},
   "outputs": [
    {
     "data": {
      "text/plain": [
       "(1459, 45)"
      ]
     },
     "execution_count": 57,
     "metadata": {},
     "output_type": "execute_result"
    }
   ],
   "source": [
    "testDat.shape"
   ]
  },
  {
   "cell_type": "code",
   "execution_count": 59,
   "id": "fe081855",
   "metadata": {},
   "outputs": [],
   "source": [
    "dummy2=pd.get_dummies(testDat['ExterCond'])"
   ]
  },
  {
   "cell_type": "code",
   "execution_count": 60,
   "id": "d99e1f89",
   "metadata": {},
   "outputs": [],
   "source": [
    "testDat=testDat.merge(dummy2,left_index=True,right_index=True)"
   ]
  },
  {
   "cell_type": "code",
   "execution_count": 61,
   "id": "0c0d1049",
   "metadata": {},
   "outputs": [
    {
     "data": {
      "text/plain": [
       "(1459, 50)"
      ]
     },
     "execution_count": 61,
     "metadata": {},
     "output_type": "execute_result"
    }
   ],
   "source": [
    "testDat.shape"
   ]
  },
  {
   "cell_type": "code",
   "execution_count": 62,
   "id": "b7f45c78",
   "metadata": {},
   "outputs": [],
   "source": [
    "Xtest = Xtest[testDat.columns]"
   ]
  },
  {
   "cell_type": "code",
   "execution_count": 63,
   "id": "95e64bb8",
   "metadata": {},
   "outputs": [
    {
     "name": "stdout",
     "output_type": "stream",
     "text": [
      "MSZoning          0\n",
      "Street            0\n",
      "LotShape          0\n",
      "LandContour       0\n",
      "Utilities         0\n",
      "LotConfig         0\n",
      "LandSlope         0\n",
      "Neighborhood      0\n",
      "Condition1        0\n",
      "Condition2        0\n",
      "BldgType          0\n",
      "HouseStyle        0\n",
      "OverallQual       0\n",
      "YearBuilt         0\n",
      "YearRemodAdd      0\n",
      "RoofStyle         0\n",
      "RoofMatl          0\n",
      "Exterior1st       0\n",
      "Exterior2nd       0\n",
      "MasVnrType        1\n",
      "ExterQual         0\n",
      "ExterCond         0\n",
      "Foundation        0\n",
      "BsmtQual          7\n",
      "BsmtCond          7\n",
      "BsmtExposure      7\n",
      "BsmtFinType1      7\n",
      "BsmtFinType2      7\n",
      "Heating           0\n",
      "HeatingQC         0\n",
      "CentralAir        0\n",
      "Electrical        0\n",
      "1stFlrSF          0\n",
      "GrLivArea         0\n",
      "FullBath          0\n",
      "KitchenQual       0\n",
      "Functional        0\n",
      "GarageType       13\n",
      "GarageFinish     13\n",
      "GarageCars        0\n",
      "GarageQual       13\n",
      "GarageCond       13\n",
      "PavedDrive        0\n",
      "SaleType          0\n",
      "SaleCondition     0\n",
      "Ex                0\n",
      "Fa                0\n",
      "Gd                0\n",
      "Po                0\n",
      "TA                0\n",
      "dtype: int64\n"
     ]
    }
   ],
   "source": [
    "#checking for null values in xtest dataset\n",
    "with pd.option_context('display.max_rows', None,):\n",
    "   print(Xtest.isnull().sum())"
   ]
  },
  {
   "cell_type": "code",
   "execution_count": 64,
   "id": "bc6bd764",
   "metadata": {},
   "outputs": [],
   "source": [
    "#handling null values in xtest dataset\n",
    "Xtest['MasVnrType']=Xtest['MasVnrType'].fillna(Xtest['MasVnrType'].mode()[0])\n",
    "Xtest['BsmtQual']=Xtest['BsmtQual'].fillna(Xtest['BsmtQual'].mode()[0])\n",
    "Xtest['BsmtCond']=Xtest['BsmtCond'].fillna(Xtest['BsmtCond'].mode()[0])\n",
    "Xtest['BsmtExposure']=Xtest['BsmtExposure'].fillna(Xtest['BsmtExposure'].mode()[0])\n",
    "Xtest['BsmtFinType1']=Xtest['BsmtFinType1'].fillna(Xtest['BsmtFinType1'].mode()[0])\n",
    "Xtest['BsmtFinType2']=Xtest['BsmtFinType2'].fillna(Xtest['BsmtFinType2'].mode()[0])\n",
    "Xtest['Electrical']=Xtest['Electrical'].fillna(Xtest['Electrical'].mode()[0])\n",
    "Xtest['GarageType']=Xtest['GarageType'].fillna(Xtest['GarageType'].mode()[0])\n",
    "Xtest['GarageFinish']=Xtest['GarageFinish'].fillna(Xtest['GarageFinish'].mode()[0])\n",
    "Xtest['GarageQual']=Xtest['GarageQual'].fillna(Xtest['GarageQual'].mode()[0])\n",
    "Xtest['GarageCond']=Xtest['GarageCond'].fillna(Xtest['GarageCond'].mode()[0])"
   ]
  },
  {
   "cell_type": "code",
   "execution_count": 65,
   "id": "65fdb7b5",
   "metadata": {},
   "outputs": [
    {
     "data": {
      "text/plain": [
       "0"
      ]
     },
     "execution_count": 65,
     "metadata": {},
     "output_type": "execute_result"
    }
   ],
   "source": [
    "#confirming there are no more null values\n",
    "Xtest.isnull().sum().sum()"
   ]
  },
  {
   "cell_type": "code",
   "execution_count": 66,
   "id": "5545f6cf",
   "metadata": {},
   "outputs": [
    {
     "data": {
      "text/plain": [
       "(292, 50)"
      ]
     },
     "execution_count": 66,
     "metadata": {},
     "output_type": "execute_result"
    }
   ],
   "source": [
    "Xtest.shape"
   ]
  },
  {
   "cell_type": "code",
   "execution_count": 67,
   "id": "b360c5d2",
   "metadata": {
    "scrolled": true
   },
   "outputs": [
    {
     "name": "stdout",
     "output_type": "stream",
     "text": [
      "MSZoning          4\n",
      "Street            0\n",
      "LotShape          0\n",
      "LandContour       0\n",
      "Utilities         2\n",
      "LotConfig         0\n",
      "LandSlope         0\n",
      "Neighborhood      0\n",
      "Condition1        0\n",
      "Condition2        0\n",
      "BldgType          0\n",
      "HouseStyle        0\n",
      "OverallQual       0\n",
      "YearBuilt         0\n",
      "YearRemodAdd      0\n",
      "RoofStyle         0\n",
      "RoofMatl          0\n",
      "Exterior1st       1\n",
      "Exterior2nd       1\n",
      "MasVnrType       16\n",
      "ExterQual         0\n",
      "ExterCond         0\n",
      "Foundation        0\n",
      "BsmtQual         44\n",
      "BsmtCond         45\n",
      "BsmtExposure     44\n",
      "BsmtFinType1     42\n",
      "BsmtFinType2     42\n",
      "Heating           0\n",
      "HeatingQC         0\n",
      "CentralAir        0\n",
      "Electrical        0\n",
      "1stFlrSF          0\n",
      "GrLivArea         0\n",
      "FullBath          0\n",
      "KitchenQual       1\n",
      "Functional        2\n",
      "GarageType       76\n",
      "GarageFinish     78\n",
      "GarageCars        1\n",
      "GarageQual       78\n",
      "GarageCond       78\n",
      "PavedDrive        0\n",
      "SaleType          1\n",
      "SaleCondition     0\n",
      "Ex                0\n",
      "Fa                0\n",
      "Gd                0\n",
      "Po                0\n",
      "TA                0\n",
      "dtype: int64\n"
     ]
    }
   ],
   "source": [
    "#checking for null values in test dataset\n",
    "with pd.option_context('display.max_rows', None,):\n",
    "   print(testDat.isnull().sum())"
   ]
  },
  {
   "cell_type": "code",
   "execution_count": 68,
   "id": "f6dabd87",
   "metadata": {},
   "outputs": [],
   "source": [
    "#handling null values in test datasetUtilities\n",
    "testDat['MSZoning']=testDat['MSZoning'].fillna(testDat['MSZoning'].mode()[0])\n",
    "testDat['Utilities']=testDat['Utilities'].fillna(testDat['Utilities'].mode()[0])\n",
    "testDat['Exterior1st']=testDat['Exterior1st'].fillna(testDat['Exterior1st'].mode()[0])\n",
    "testDat['Exterior2nd']=testDat['Exterior2nd'].fillna(testDat['Exterior2nd'].mode()[0])\n",
    "testDat['MasVnrType']=testDat['MasVnrType'].fillna(testDat['MasVnrType'].mode()[0])\n",
    "testDat['BsmtQual']=testDat['BsmtQual'].fillna(testDat['BsmtQual'].mode()[0])\n",
    "testDat['BsmtCond']=testDat['BsmtCond'].fillna(testDat['BsmtCond'].mode()[0])\n",
    "testDat['BsmtExposure']=testDat['BsmtExposure'].fillna(testDat['BsmtExposure'].mode()[0])\n",
    "testDat['BsmtFinType1']=testDat['BsmtFinType1'].fillna(testDat['BsmtFinType1'].mode()[0])\n",
    "testDat['BsmtFinType2']=testDat['BsmtFinType2'].fillna(testDat['BsmtFinType2'].mode()[0])\n",
    "testDat['KitchenQual']=testDat['KitchenQual'].fillna(testDat['KitchenQual'].mode()[0])\n",
    "testDat['Functional']=testDat['Functional'].fillna(testDat['Functional'].mode()[0])\n",
    "testDat['GarageType']=testDat['GarageType'].fillna(testDat['GarageType'].mode()[0])\n",
    "testDat['GarageFinish']=testDat['GarageFinish'].fillna(testDat['GarageFinish'].mode()[0])\n",
    "testDat['GarageCars']=testDat['GarageCars'].fillna(testDat['GarageCars'].mean())\n",
    "testDat['GarageQual']=testDat['GarageQual'].fillna(testDat['GarageQual'].mode()[0])\n",
    "testDat['GarageCond']=testDat['GarageCond'].fillna(testDat['GarageCond'].mode()[0])\n",
    "testDat['SaleType']=testDat['SaleType'].fillna(testDat['SaleType'].mode()[0])"
   ]
  },
  {
   "cell_type": "code",
   "execution_count": 69,
   "id": "fad35d3c",
   "metadata": {},
   "outputs": [
    {
     "data": {
      "text/plain": [
       "0"
      ]
     },
     "execution_count": 69,
     "metadata": {},
     "output_type": "execute_result"
    }
   ],
   "source": [
    "#confirming there are no more null values\n",
    "testDat.isnull().sum().sum()"
   ]
  },
  {
   "cell_type": "code",
   "execution_count": 70,
   "id": "e4098a52",
   "metadata": {},
   "outputs": [
    {
     "data": {
      "text/plain": [
       "(1459, 50)"
      ]
     },
     "execution_count": 70,
     "metadata": {},
     "output_type": "execute_result"
    }
   ],
   "source": [
    "testDat.shape"
   ]
  },
  {
   "cell_type": "markdown",
   "id": "8638be7b",
   "metadata": {},
   "source": [
    "### Checking that all the datasets have the same columns (but SalePrice)"
   ]
  },
  {
   "cell_type": "code",
   "execution_count": 71,
   "id": "ab4c7344",
   "metadata": {},
   "outputs": [
    {
     "data": {
      "text/plain": [
       "{'SalePrice'}"
      ]
     },
     "execution_count": 71,
     "metadata": {},
     "output_type": "execute_result"
    }
   ],
   "source": [
    "set(mergedxy.columns).difference(set(testDat.columns))"
   ]
  },
  {
   "cell_type": "code",
   "execution_count": 72,
   "id": "5afbbb35",
   "metadata": {},
   "outputs": [
    {
     "data": {
      "text/plain": [
       "{'SalePrice'}"
      ]
     },
     "execution_count": 72,
     "metadata": {},
     "output_type": "execute_result"
    }
   ],
   "source": [
    "set(mergedxy.columns).difference(set(Xtest.columns))"
   ]
  },
  {
   "cell_type": "code",
   "execution_count": 73,
   "id": "77933770",
   "metadata": {},
   "outputs": [],
   "source": [
    "ytrain=mergedxy['SalePrice']"
   ]
  },
  {
   "cell_type": "code",
   "execution_count": 74,
   "id": "63c982cd",
   "metadata": {},
   "outputs": [],
   "source": [
    "mergedxy.drop(['SalePrice'],axis=1,inplace=True)"
   ]
  },
  {
   "cell_type": "code",
   "execution_count": 75,
   "id": "bea9057b",
   "metadata": {},
   "outputs": [],
   "source": [
    "Xtrain=mergedxy"
   ]
  },
  {
   "cell_type": "code",
   "execution_count": 76,
   "id": "2152fe90",
   "metadata": {},
   "outputs": [
    {
     "name": "stdout",
     "output_type": "stream",
     "text": [
      "<class 'pandas.core.frame.DataFrame'>\n",
      "Int64Index: 1158 entries, 1392 to 382\n",
      "Data columns (total 50 columns):\n",
      " #   Column         Non-Null Count  Dtype \n",
      "---  ------         --------------  ----- \n",
      " 0   MSZoning       1158 non-null   object\n",
      " 1   Street         1158 non-null   object\n",
      " 2   LotShape       1158 non-null   object\n",
      " 3   LandContour    1158 non-null   object\n",
      " 4   Utilities      1158 non-null   object\n",
      " 5   LotConfig      1158 non-null   object\n",
      " 6   LandSlope      1158 non-null   object\n",
      " 7   Neighborhood   1158 non-null   object\n",
      " 8   Condition1     1158 non-null   object\n",
      " 9   Condition2     1158 non-null   object\n",
      " 10  BldgType       1158 non-null   object\n",
      " 11  HouseStyle     1158 non-null   object\n",
      " 12  OverallQual    1158 non-null   int64 \n",
      " 13  YearBuilt      1158 non-null   int64 \n",
      " 14  YearRemodAdd   1158 non-null   int64 \n",
      " 15  RoofStyle      1158 non-null   object\n",
      " 16  RoofMatl       1158 non-null   object\n",
      " 17  Exterior1st    1158 non-null   object\n",
      " 18  Exterior2nd    1158 non-null   object\n",
      " 19  MasVnrType     1158 non-null   object\n",
      " 20  ExterQual      1158 non-null   object\n",
      " 21  ExterCond      1158 non-null   object\n",
      " 22  Foundation     1158 non-null   object\n",
      " 23  BsmtQual       1158 non-null   object\n",
      " 24  BsmtCond       1158 non-null   object\n",
      " 25  BsmtExposure   1158 non-null   object\n",
      " 26  BsmtFinType1   1158 non-null   object\n",
      " 27  BsmtFinType2   1158 non-null   object\n",
      " 28  Heating        1158 non-null   object\n",
      " 29  HeatingQC      1158 non-null   object\n",
      " 30  CentralAir     1158 non-null   object\n",
      " 31  Electrical     1158 non-null   object\n",
      " 32  1stFlrSF       1158 non-null   int64 \n",
      " 33  GrLivArea      1158 non-null   int64 \n",
      " 34  FullBath       1158 non-null   int64 \n",
      " 35  KitchenQual    1158 non-null   object\n",
      " 36  Functional     1158 non-null   object\n",
      " 37  GarageType     1158 non-null   object\n",
      " 38  GarageFinish   1158 non-null   object\n",
      " 39  GarageCars     1158 non-null   int64 \n",
      " 40  GarageQual     1158 non-null   object\n",
      " 41  GarageCond     1158 non-null   object\n",
      " 42  PavedDrive     1158 non-null   object\n",
      " 43  SaleType       1158 non-null   object\n",
      " 44  SaleCondition  1158 non-null   object\n",
      " 45  Ex             1158 non-null   uint8 \n",
      " 46  Fa             1158 non-null   uint8 \n",
      " 47  Gd             1158 non-null   uint8 \n",
      " 48  Po             1158 non-null   uint8 \n",
      " 49  TA             1158 non-null   uint8 \n",
      "dtypes: int64(7), object(38), uint8(5)\n",
      "memory usage: 454.1+ KB\n"
     ]
    }
   ],
   "source": [
    "Xtrain.info()"
   ]
  },
  {
   "cell_type": "markdown",
   "id": "46190753",
   "metadata": {},
   "source": [
    "---\n",
    "## Fitting and Validating Linear Regression Models that predict “SalePrice”\n"
   ]
  },
  {
   "cell_type": "code",
   "execution_count": 77,
   "id": "4b3e70b6",
   "metadata": {},
   "outputs": [],
   "source": [
    "linReg = linear_model.LinearRegression(n_jobs=-1)  # an instance of the method\n",
    "# Ordinary least squares Linear Regression. n_jobs - The number of jobs to use for the computation"
   ]
  },
  {
   "cell_type": "code",
   "execution_count": 78,
   "id": "187d0c45",
   "metadata": {},
   "outputs": [
    {
     "data": {
      "text/plain": [
       "Index(['OverallQual', 'GrLivArea'], dtype='object')"
      ]
     },
     "execution_count": 78,
     "metadata": {},
     "output_type": "execute_result"
    },
    {
     "data": {
      "text/plain": [
       "Index(['OverallQual', 'GrLivArea'], dtype='object')"
      ]
     },
     "execution_count": 78,
     "metadata": {},
     "output_type": "execute_result"
    }
   ],
   "source": [
    "Xtrain0=Xtrain.loc[:,[\"OverallQual\",\"GrLivArea\"]]\n",
    "Xtrain0.columns\n",
    "Xtest0=Xtest.loc[:,[\"OverallQual\",\"GrLivArea\"]]\n",
    "Xtest0.columns"
   ]
  },
  {
   "cell_type": "markdown",
   "id": "ada493c5",
   "metadata": {},
   "source": [
    "This regression method wants numpy arrays as input data.  We'll trandform our pd Series and DataFrames, here.  Note that use of the pd method to do this."
   ]
  },
  {
   "cell_type": "code",
   "execution_count": 79,
   "id": "e621f439",
   "metadata": {},
   "outputs": [],
   "source": [
    "# Make some numpy arrays\n",
    "X=Xtrain0.to_numpy(copy=True)\n",
    "y=ytrain.to_numpy(copy=True)\n",
    "Xt=Xtest0.to_numpy(copy=True)\n",
    "yt=ytest.to_numpy(copy=True)\n",
    "# What does copy do? - making sure returned value is not a view"
   ]
  },
  {
   "cell_type": "markdown",
   "id": "cd0d022e",
   "metadata": {},
   "source": [
    "## Baseline Model Training and Validating"
   ]
  },
  {
   "cell_type": "code",
   "execution_count": 80,
   "id": "8f185a7f",
   "metadata": {},
   "outputs": [],
   "source": [
    "# Baseline model training\n",
    "reg0=linReg.fit(X,y)"
   ]
  },
  {
   "cell_type": "markdown",
   "id": "c081fb47",
   "metadata": {},
   "source": [
    "### Fit Measures\n"
   ]
  },
  {
   "cell_type": "code",
   "execution_count": 81,
   "id": "440dacb0",
   "metadata": {},
   "outputs": [
    {
     "name": "stdout",
     "output_type": "stream",
     "text": [
      "Coefficient of Determination\n",
      "Training R2: 0.708\n",
      "Test R2: 0.725\n"
     ]
    }
   ],
   "source": [
    "print('Coefficient of Determination')\n",
    "R2Train=reg0.score(X,y).round(3)\n",
    "print(f'Training R2: {R2Train}')\n",
    "testPred=reg0.predict(Xt)\n",
    "R2Test=metrics.r2_score(yt,testPred).round(3)\n",
    "print(f'Test R2: {R2Test}')"
   ]
  },
  {
   "cell_type": "markdown",
   "id": "9a991ac7",
   "metadata": {},
   "source": [
    "### MSE\n"
   ]
  },
  {
   "cell_type": "code",
   "execution_count": 82,
   "id": "e337ef8d",
   "metadata": {},
   "outputs": [
    {
     "name": "stdout",
     "output_type": "stream",
     "text": [
      "training RMSE: 37891.55\n",
      "test RMSE: 43704.83\n"
     ]
    }
   ],
   "source": [
    "trainPred=reg0.predict(X)\n",
    "trainMSE=metrics.mean_squared_error(y,trainPred)\n",
    "testMSE=metrics.mean_squared_error(yt,testPred)\n",
    "trainRMSE=math.sqrt(trainMSE)\n",
    "testRMSE=math.sqrt(testMSE)\n",
    "print(f'training RMSE: {round(trainRMSE,2)}')\n",
    "print(f'test RMSE: {round(testRMSE,2)}')"
   ]
  },
  {
   "cell_type": "code",
   "execution_count": 83,
   "id": "48c7e6cb",
   "metadata": {},
   "outputs": [
    {
     "data": {
      "text/plain": [
       "Index(['OverallQual', 'GrLivArea'], dtype='object')"
      ]
     },
     "execution_count": 83,
     "metadata": {},
     "output_type": "execute_result"
    }
   ],
   "source": [
    "#preparing the test data \n",
    "testDat0=testDat.loc[:,[\"OverallQual\",\"GrLivArea\"]]\n",
    "testDat0.columns"
   ]
  },
  {
   "cell_type": "code",
   "execution_count": 84,
   "id": "dd69f946",
   "metadata": {},
   "outputs": [],
   "source": [
    "tD=testDat0.to_numpy(copy=True)"
   ]
  },
  {
   "cell_type": "code",
   "execution_count": 85,
   "id": "768b39fe",
   "metadata": {},
   "outputs": [],
   "source": [
    "testPred=reg0.predict(tD)"
   ]
  },
  {
   "cell_type": "code",
   "execution_count": 86,
   "id": "e86e341c",
   "metadata": {},
   "outputs": [],
   "source": [
    "#saving to file\n",
    "pred=pd.DataFrame(testPred)\n",
    "sub_df=pd.read_csv('sample_submission.csv')\n",
    "datasets=pd.concat([sub_df['Id'],pred],axis=1)\n",
    "datasets.columns=['Id','SalePrice']\n",
    "datasets.to_csv('sample_submission.csv',index=False)"
   ]
  },
  {
   "cell_type": "markdown",
   "id": "cc9c022a",
   "metadata": {},
   "source": [
    "Kaggle result: 0.44784"
   ]
  },
  {
   "cell_type": "code",
   "execution_count": 87,
   "id": "97f0aab9",
   "metadata": {},
   "outputs": [
    {
     "data": {
      "text/plain": [
       "Index(['OverallQual', 'GrLivArea', 'GarageCars', 'YearBuilt'], dtype='object')"
      ]
     },
     "execution_count": 87,
     "metadata": {},
     "output_type": "execute_result"
    },
    {
     "data": {
      "text/plain": [
       "Index(['OverallQual', 'GrLivArea', 'GarageCars', 'YearBuilt'], dtype='object')"
      ]
     },
     "execution_count": 87,
     "metadata": {},
     "output_type": "execute_result"
    }
   ],
   "source": [
    "#attpt 2 with more variables\n",
    "Xtrain0=Xtrain.loc[:,[\"OverallQual\",\"GrLivArea\",\"GarageCars\",\"YearBuilt\"]]\n",
    "Xtrain0.columns\n",
    "Xtest0=Xtest.loc[:,[\"OverallQual\",\"GrLivArea\",\"GarageCars\",\"YearBuilt\"]]\n",
    "Xtest0.columns"
   ]
  },
  {
   "cell_type": "code",
   "execution_count": 88,
   "id": "923c32f1",
   "metadata": {},
   "outputs": [],
   "source": [
    "X=Xtrain0.to_numpy(copy=True)\n",
    "y=ytrain.to_numpy(copy=True)\n",
    "Xt=Xtest0.to_numpy(copy=True)\n",
    "yt=ytest.to_numpy(copy=True)"
   ]
  },
  {
   "cell_type": "code",
   "execution_count": 89,
   "id": "3c773bf4",
   "metadata": {},
   "outputs": [],
   "source": [
    "reg0=linReg.fit(X,y)"
   ]
  },
  {
   "cell_type": "code",
   "execution_count": 90,
   "id": "03c6b3e4",
   "metadata": {},
   "outputs": [
    {
     "name": "stdout",
     "output_type": "stream",
     "text": [
      "Coefficient of Determination\n",
      "Training R2: 0.757\n",
      "Test R2: 0.745\n"
     ]
    }
   ],
   "source": [
    "print('Coefficient of Determination')\n",
    "R2Train=reg0.score(X,y).round(3)\n",
    "print(f'Training R2: {R2Train}')\n",
    "testPred=reg0.predict(Xt)\n",
    "R2Test=metrics.r2_score(yt,testPred).round(3)\n",
    "print(f'Test R2: {R2Test}')"
   ]
  },
  {
   "cell_type": "code",
   "execution_count": 91,
   "id": "13cd5111",
   "metadata": {},
   "outputs": [
    {
     "name": "stdout",
     "output_type": "stream",
     "text": [
      "training RMSE: 34552.24\n",
      "test RMSE: 42036.72\n"
     ]
    }
   ],
   "source": [
    "trainPred=reg0.predict(X)\n",
    "trainMSE=metrics.mean_squared_error(y,trainPred)\n",
    "testMSE=metrics.mean_squared_error(yt,testPred)\n",
    "trainRMSE=math.sqrt(trainMSE)\n",
    "testRMSE=math.sqrt(testMSE)\n",
    "print(f'training RMSE: {round(trainRMSE,2)}')\n",
    "print(f'test RMSE: {round(testRMSE,2)}')"
   ]
  },
  {
   "cell_type": "code",
   "execution_count": 92,
   "id": "bf27d242",
   "metadata": {},
   "outputs": [
    {
     "data": {
      "text/plain": [
       "Index(['OverallQual', 'GrLivArea', 'GarageCars', 'YearBuilt'], dtype='object')"
      ]
     },
     "execution_count": 92,
     "metadata": {},
     "output_type": "execute_result"
    }
   ],
   "source": [
    "#preparing the test data \n",
    "testDat0=testDat.loc[:,[\"OverallQual\",\"GrLivArea\",\"GarageCars\",\"YearBuilt\"]]\n",
    "testDat0.columns"
   ]
  },
  {
   "cell_type": "code",
   "execution_count": 93,
   "id": "d3705998",
   "metadata": {},
   "outputs": [],
   "source": [
    "tD=testDat0.to_numpy(copy=True)"
   ]
  },
  {
   "cell_type": "code",
   "execution_count": 94,
   "id": "395ad7ed",
   "metadata": {},
   "outputs": [],
   "source": [
    "testPred=reg0.predict(tD)"
   ]
  },
  {
   "cell_type": "code",
   "execution_count": 95,
   "id": "632b8cc5",
   "metadata": {},
   "outputs": [],
   "source": [
    "#saving to file\n",
    "pred=pd.DataFrame(testPred)\n",
    "sub_df=pd.read_csv('sample_submission.csv')\n",
    "datasets=pd.concat([sub_df['Id'],pred],axis=1)\n",
    "datasets.columns=['Id','SalePrice']\n",
    "datasets.to_csv('sample_submission.csv',index=False)"
   ]
  },
  {
   "cell_type": "markdown",
   "id": "734cc40a",
   "metadata": {},
   "source": [
    "Kaggle result: 0.20536"
   ]
  },
  {
   "cell_type": "markdown",
   "id": "87eb1ba7",
   "metadata": {},
   "source": [
    "### Ridge Regression Model"
   ]
  },
  {
   "cell_type": "code",
   "execution_count": 104,
   "id": "02d249a8",
   "metadata": {},
   "outputs": [],
   "source": [
    "#Creating Ridge Regression Instance\n",
    "rrm = Ridge()\n",
    "\n",
    "# Fit data on to the model\n",
    "rrm0=rrm.fit(X, y)\n",
    "\n",
    "# Predict\n",
    "y_predicted_rrm = rrm.predict(tD)"
   ]
  },
  {
   "cell_type": "code",
   "execution_count": 105,
   "id": "e863cd96",
   "metadata": {},
   "outputs": [
    {
     "name": "stdout",
     "output_type": "stream",
     "text": [
      "Coefficient of Determination\n",
      "Training R2: 0.759\n",
      "Test R2: 0.745\n"
     ]
    }
   ],
   "source": [
    "print('Coefficient of Determination')\n",
    "R2Train=rrm0.score(X,y).round(3)\n",
    "print(f'Training R2: {R2Train}')\n",
    "testPred=rrm0.predict(Xt)\n",
    "R2Test=metrics.r2_score(yt,testPred).round(3)\n",
    "print(f'Test R2: {R2Test}')"
   ]
  },
  {
   "cell_type": "code",
   "execution_count": 106,
   "id": "0198793d",
   "metadata": {},
   "outputs": [
    {
     "name": "stdout",
     "output_type": "stream",
     "text": [
      "training RMSE: 34448.47\n",
      "test RMSE: 42076.26\n"
     ]
    }
   ],
   "source": [
    "trainPred=rrm0.predict(X)\n",
    "trainMSE=metrics.mean_squared_error(y,trainPred)\n",
    "testMSE=metrics.mean_squared_error(yt,testPred)\n",
    "trainRMSE=math.sqrt(trainMSE)\n",
    "testRMSE=math.sqrt(testMSE)\n",
    "print(f'training RMSE: {round(trainRMSE,2)}')\n",
    "print(f'test RMSE: {round(testRMSE,2)}')"
   ]
  },
  {
   "cell_type": "code",
   "execution_count": 97,
   "id": "592908bd",
   "metadata": {},
   "outputs": [],
   "source": [
    "#saving to file\n",
    "pred=pd.DataFrame(y_predicted_rrm)\n",
    "sub_df=pd.read_csv('sample_submission.csv')\n",
    "datasets=pd.concat([sub_df['Id'],pred],axis=1)\n",
    "datasets.columns=['Id','SalePrice']\n",
    "datasets.to_csv('sample_submission.csv',index=False)"
   ]
  },
  {
   "cell_type": "markdown",
   "id": "4717f263",
   "metadata": {},
   "source": [
    "Kaggle result: 0.20524"
   ]
  }
 ],
 "metadata": {
  "hide_input": false,
  "kernelspec": {
   "display_name": "Python 3 (ipykernel)",
   "language": "python",
   "name": "python3"
  },
  "language_info": {
   "codemirror_mode": {
    "name": "ipython",
    "version": 3
   },
   "file_extension": ".py",
   "mimetype": "text/x-python",
   "name": "python",
   "nbconvert_exporter": "python",
   "pygments_lexer": "ipython3",
   "version": "3.9.7"
  },
  "latex_envs": {
   "LaTeX_envs_menu_present": true,
   "autoclose": false,
   "autocomplete": true,
   "bibliofile": "biblio.bib",
   "cite_by": "apalike",
   "current_citInitial": 1,
   "eqLabelWithNumbers": true,
   "eqNumInitial": 1,
   "hotkeys": {
    "equation": "Ctrl-E",
    "itemize": "Ctrl-I"
   },
   "labels_anchors": false,
   "latex_user_defs": false,
   "report_style_numbering": false,
   "user_envs_cfg": false
  },
  "toc": {
   "base_numbering": 1,
   "nav_menu": {},
   "number_sections": false,
   "sideBar": true,
   "skip_h1_title": false,
   "title_cell": "Table of Contents",
   "title_sidebar": "Contents",
   "toc_cell": false,
   "toc_position": {},
   "toc_section_display": true,
   "toc_window_display": false
  }
 },
 "nbformat": 4,
 "nbformat_minor": 5
}
